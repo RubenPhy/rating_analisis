{
 "cells": [
  {
   "cell_type": "markdown",
   "metadata": {},
   "source": [
    "https://www.tensorflow.org/tutorials/keras/regression"
   ]
  },
  {
   "cell_type": "markdown",
   "metadata": {},
   "source": [
    "## Modelo"
   ]
  },
  {
   "cell_type": "markdown",
   "metadata": {},
   "source": [
    "Arbol de decisión de nuestro algoritmo de Maching Learning\n",
    "<img src=\"ml_map.png\">"
   ]
  },
  {
   "cell_type": "code",
   "execution_count": 30,
   "metadata": {},
   "outputs": [],
   "source": [
    "from sklearn.pipeline import Pipeline\n",
    "from sklearn.preprocessing import StandardScaler\n",
    "from sklearn.svm import LinearSVC\n",
    "import pandas as pd\n",
    "import pickle\n",
    "import pprint"
   ]
  },
  {
   "cell_type": "code",
   "execution_count": 31,
   "metadata": {},
   "outputs": [
    {
     "name": "stdout",
     "output_type": "stream",
     "text": [
      "(23183, 29)\n"
     ]
    },
    {
     "data": {
      "text/html": [
       "<div>\n",
       "<style scoped>\n",
       "    .dataframe tbody tr th:only-of-type {\n",
       "        vertical-align: middle;\n",
       "    }\n",
       "\n",
       "    .dataframe tbody tr th {\n",
       "        vertical-align: top;\n",
       "    }\n",
       "\n",
       "    .dataframe thead th {\n",
       "        text-align: right;\n",
       "    }\n",
       "</style>\n",
       "<table border=\"1\" class=\"dataframe\">\n",
       "  <thead>\n",
       "    <tr style=\"text-align: right;\">\n",
       "      <th></th>\n",
       "      <th>Excel Company ID</th>\n",
       "      <th>Rating</th>\n",
       "      <th>Sector</th>\n",
       "      <th>Current Assets</th>\n",
       "      <th>Cash and equivalents</th>\n",
       "      <th>Receivables</th>\n",
       "      <th>Total Assets</th>\n",
       "      <th>Current Liabilities</th>\n",
       "      <th>Long Term Debt</th>\n",
       "      <th>Total Debt</th>\n",
       "      <th>...</th>\n",
       "      <th>Quick Ratio</th>\n",
       "      <th>Cash ratio</th>\n",
       "      <th>Debt to Equity</th>\n",
       "      <th>Debt ratio</th>\n",
       "      <th>Rating_group</th>\n",
       "      <th>Net Debt</th>\n",
       "      <th>Financial Leverage_group</th>\n",
       "      <th>Sector_ordinal</th>\n",
       "      <th>Rating_ordinal</th>\n",
       "      <th>Rating_group_ordinal</th>\n",
       "    </tr>\n",
       "  </thead>\n",
       "  <tbody>\n",
       "    <tr>\n",
       "      <th>0</th>\n",
       "      <td>IQ5522615</td>\n",
       "      <td>AAA</td>\n",
       "      <td>Industrials</td>\n",
       "      <td>131.88622</td>\n",
       "      <td>40.31142</td>\n",
       "      <td>79.35595</td>\n",
       "      <td>948.46022</td>\n",
       "      <td>375.10682</td>\n",
       "      <td>140.04878</td>\n",
       "      <td>298.03042</td>\n",
       "      <td>...</td>\n",
       "      <td>0.319022</td>\n",
       "      <td>0.107467</td>\n",
       "      <td>0.815138</td>\n",
       "      <td>3.182428</td>\n",
       "      <td>AAA</td>\n",
       "      <td>257.71900</td>\n",
       "      <td>(1.116, 3.881]</td>\n",
       "      <td>2</td>\n",
       "      <td>1</td>\n",
       "      <td>0.0</td>\n",
       "    </tr>\n",
       "    <tr>\n",
       "      <th>1</th>\n",
       "      <td>IQ4112645</td>\n",
       "      <td>AAA</td>\n",
       "      <td>Industrials</td>\n",
       "      <td>19851.15657</td>\n",
       "      <td>1694.92907</td>\n",
       "      <td>17057.47764</td>\n",
       "      <td>59124.55826</td>\n",
       "      <td>12387.79077</td>\n",
       "      <td>36441.35861</td>\n",
       "      <td>43611.62214</td>\n",
       "      <td>...</td>\n",
       "      <td>1.513781</td>\n",
       "      <td>0.136823</td>\n",
       "      <td>5.753375</td>\n",
       "      <td>1.355706</td>\n",
       "      <td>AAA</td>\n",
       "      <td>41916.69307</td>\n",
       "      <td>(12.135, 14.886]</td>\n",
       "      <td>2</td>\n",
       "      <td>1</td>\n",
       "      <td>0.0</td>\n",
       "    </tr>\n",
       "    <tr>\n",
       "      <th>2</th>\n",
       "      <td>IQ134385765</td>\n",
       "      <td>AAA</td>\n",
       "      <td>Financials</td>\n",
       "      <td>56290.37100</td>\n",
       "      <td>382.95500</td>\n",
       "      <td>53255.75500</td>\n",
       "      <td>187664.38700</td>\n",
       "      <td>125659.11500</td>\n",
       "      <td>58822.43600</td>\n",
       "      <td>159460.40600</td>\n",
       "      <td>...</td>\n",
       "      <td>0.426859</td>\n",
       "      <td>0.003048</td>\n",
       "      <td>5.753375</td>\n",
       "      <td>1.176871</td>\n",
       "      <td>AAA</td>\n",
       "      <td>159077.45100</td>\n",
       "      <td>(12.135, 14.886]</td>\n",
       "      <td>3</td>\n",
       "      <td>1</td>\n",
       "      <td>0.0</td>\n",
       "    </tr>\n",
       "    <tr>\n",
       "      <th>3</th>\n",
       "      <td>IQ12465523</td>\n",
       "      <td>AAA</td>\n",
       "      <td>Industrials</td>\n",
       "      <td>166.71682</td>\n",
       "      <td>10.61747</td>\n",
       "      <td>135.99393</td>\n",
       "      <td>1993.93763</td>\n",
       "      <td>583.17000</td>\n",
       "      <td>232.45475</td>\n",
       "      <td>530.76038</td>\n",
       "      <td>...</td>\n",
       "      <td>0.251404</td>\n",
       "      <td>0.018206</td>\n",
       "      <td>0.828456</td>\n",
       "      <td>3.756757</td>\n",
       "      <td>AAA</td>\n",
       "      <td>520.14291</td>\n",
       "      <td>(1.116, 3.881]</td>\n",
       "      <td>2</td>\n",
       "      <td>1</td>\n",
       "      <td>0.0</td>\n",
       "    </tr>\n",
       "    <tr>\n",
       "      <th>4</th>\n",
       "      <td>IQ139677</td>\n",
       "      <td>AAA</td>\n",
       "      <td>Health Care</td>\n",
       "      <td>40948.66165</td>\n",
       "      <td>15191.95565</td>\n",
       "      <td>8503.05235</td>\n",
       "      <td>96321.22385</td>\n",
       "      <td>18638.76625</td>\n",
       "      <td>9689.25465</td>\n",
       "      <td>13216.64570</td>\n",
       "      <td>...</td>\n",
       "      <td>1.271276</td>\n",
       "      <td>0.815073</td>\n",
       "      <td>0.245851</td>\n",
       "      <td>7.287872</td>\n",
       "      <td>AAA</td>\n",
       "      <td>-1975.30995</td>\n",
       "      <td>(1.116, 3.881]</td>\n",
       "      <td>8</td>\n",
       "      <td>1</td>\n",
       "      <td>0.0</td>\n",
       "    </tr>\n",
       "  </tbody>\n",
       "</table>\n",
       "<p>5 rows × 29 columns</p>\n",
       "</div>"
      ],
      "text/plain": [
       "  Excel Company ID Rating       Sector  Current Assets  Cash and equivalents  \\\n",
       "0        IQ5522615    AAA  Industrials       131.88622              40.31142   \n",
       "1        IQ4112645    AAA  Industrials     19851.15657            1694.92907   \n",
       "2      IQ134385765    AAA   Financials     56290.37100             382.95500   \n",
       "3       IQ12465523    AAA  Industrials       166.71682              10.61747   \n",
       "4         IQ139677    AAA  Health Care     40948.66165           15191.95565   \n",
       "\n",
       "   Receivables  Total Assets  Current Liabilities  Long Term Debt  \\\n",
       "0     79.35595     948.46022            375.10682       140.04878   \n",
       "1  17057.47764   59124.55826          12387.79077     36441.35861   \n",
       "2  53255.75500  187664.38700         125659.11500     58822.43600   \n",
       "3    135.99393    1993.93763            583.17000       232.45475   \n",
       "4   8503.05235   96321.22385          18638.76625      9689.25465   \n",
       "\n",
       "     Total Debt  ...  Quick Ratio  Cash ratio  Debt to Equity  Debt ratio  \\\n",
       "0     298.03042  ...     0.319022    0.107467        0.815138    3.182428   \n",
       "1   43611.62214  ...     1.513781    0.136823        5.753375    1.355706   \n",
       "2  159460.40600  ...     0.426859    0.003048        5.753375    1.176871   \n",
       "3     530.76038  ...     0.251404    0.018206        0.828456    3.756757   \n",
       "4   13216.64570  ...     1.271276    0.815073        0.245851    7.287872   \n",
       "\n",
       "   Rating_group      Net Debt  Financial Leverage_group  Sector_ordinal  \\\n",
       "0           AAA     257.71900            (1.116, 3.881]               2   \n",
       "1           AAA   41916.69307          (12.135, 14.886]               2   \n",
       "2           AAA  159077.45100          (12.135, 14.886]               3   \n",
       "3           AAA     520.14291            (1.116, 3.881]               2   \n",
       "4           AAA   -1975.30995            (1.116, 3.881]               8   \n",
       "\n",
       "   Rating_ordinal  Rating_group_ordinal  \n",
       "0               1                   0.0  \n",
       "1               1                   0.0  \n",
       "2               1                   0.0  \n",
       "3               1                   0.0  \n",
       "4               1                   0.0  \n",
       "\n",
       "[5 rows x 29 columns]"
      ]
     },
     "execution_count": 31,
     "metadata": {},
     "output_type": "execute_result"
    }
   ],
   "source": [
    "# read the clean data\n",
    "df = pd.read_csv('all_data_clean_ordinal.csv')\n",
    "print(df.shape)\n",
    "df.head()"
   ]
  },
  {
   "cell_type": "code",
   "execution_count": 63,
   "metadata": {},
   "outputs": [
    {
     "data": {
      "text/html": [
       "<div>\n",
       "<style scoped>\n",
       "    .dataframe tbody tr th:only-of-type {\n",
       "        vertical-align: middle;\n",
       "    }\n",
       "\n",
       "    .dataframe tbody tr th {\n",
       "        vertical-align: top;\n",
       "    }\n",
       "\n",
       "    .dataframe thead th {\n",
       "        text-align: right;\n",
       "    }\n",
       "</style>\n",
       "<table border=\"1\" class=\"dataframe\">\n",
       "  <thead>\n",
       "    <tr style=\"text-align: right;\">\n",
       "      <th></th>\n",
       "      <th>Rating_ordinal</th>\n",
       "      <th>Net Debt to EBITDA</th>\n",
       "      <th>Current Ratio</th>\n",
       "      <th>Quick Ratio</th>\n",
       "      <th>Cash ratio</th>\n",
       "      <th>Long Term Debt to Equity</th>\n",
       "      <th>Debt ratio</th>\n",
       "      <th>Financial Leverage</th>\n",
       "      <th>Sector_ordinal</th>\n",
       "    </tr>\n",
       "  </thead>\n",
       "  <tbody>\n",
       "    <tr>\n",
       "      <th>0</th>\n",
       "      <td>1</td>\n",
       "      <td>1.942794</td>\n",
       "      <td>0.351596</td>\n",
       "      <td>0.319022</td>\n",
       "      <td>0.107467</td>\n",
       "      <td>0.383045</td>\n",
       "      <td>3.182428</td>\n",
       "      <td>2.594117</td>\n",
       "      <td>2</td>\n",
       "    </tr>\n",
       "    <tr>\n",
       "      <th>1</th>\n",
       "      <td>1</td>\n",
       "      <td>15.000000</td>\n",
       "      <td>1.602478</td>\n",
       "      <td>1.513781</td>\n",
       "      <td>0.136823</td>\n",
       "      <td>4.593871</td>\n",
       "      <td>1.355706</td>\n",
       "      <td>14.886094</td>\n",
       "      <td>2</td>\n",
       "    </tr>\n",
       "    <tr>\n",
       "      <th>2</th>\n",
       "      <td>1</td>\n",
       "      <td>15.000000</td>\n",
       "      <td>0.447961</td>\n",
       "      <td>0.426859</td>\n",
       "      <td>0.003048</td>\n",
       "      <td>4.593871</td>\n",
       "      <td>1.176871</td>\n",
       "      <td>14.886094</td>\n",
       "      <td>3</td>\n",
       "    </tr>\n",
       "    <tr>\n",
       "      <th>3</th>\n",
       "      <td>1</td>\n",
       "      <td>3.084394</td>\n",
       "      <td>0.285880</td>\n",
       "      <td>0.251404</td>\n",
       "      <td>0.018206</td>\n",
       "      <td>0.362835</td>\n",
       "      <td>3.756757</td>\n",
       "      <td>3.112306</td>\n",
       "      <td>2</td>\n",
       "    </tr>\n",
       "    <tr>\n",
       "      <th>4</th>\n",
       "      <td>1</td>\n",
       "      <td>0.000000</td>\n",
       "      <td>2.196962</td>\n",
       "      <td>1.271276</td>\n",
       "      <td>0.815073</td>\n",
       "      <td>0.180236</td>\n",
       "      <td>7.287872</td>\n",
       "      <td>1.791730</td>\n",
       "      <td>8</td>\n",
       "    </tr>\n",
       "  </tbody>\n",
       "</table>\n",
       "</div>"
      ],
      "text/plain": [
       "   Rating_ordinal  Net Debt to EBITDA  Current Ratio  Quick Ratio  Cash ratio  \\\n",
       "0               1            1.942794       0.351596     0.319022    0.107467   \n",
       "1               1           15.000000       1.602478     1.513781    0.136823   \n",
       "2               1           15.000000       0.447961     0.426859    0.003048   \n",
       "3               1            3.084394       0.285880     0.251404    0.018206   \n",
       "4               1            0.000000       2.196962     1.271276    0.815073   \n",
       "\n",
       "   Long Term Debt to Equity  Debt ratio  Financial Leverage  Sector_ordinal  \n",
       "0                  0.383045    3.182428            2.594117               2  \n",
       "1                  4.593871    1.355706           14.886094               2  \n",
       "2                  4.593871    1.176871           14.886094               3  \n",
       "3                  0.362835    3.756757            3.112306               2  \n",
       "4                  0.180236    7.287872            1.791730               8  "
      ]
     },
     "execution_count": 63,
     "metadata": {},
     "output_type": "execute_result"
    }
   ],
   "source": [
    "var_x_num = [\"Net Debt to EBITDA\", \"Debt to Assets\", \"Current Ratio\", \"Quick Ratio\", \"Cash ratio\", \"Long Term Debt to Equity\",\"Debt to Equity\", \"Debt ratio\", \"Financial Leverage\"]\n",
    "var_x = [x for x in var_x_num if x != 'Debt to Assets' and x != 'Debt to Equity'] + ['Sector_ordinal']\n",
    "var_y = ['Rating_ordinal']\n",
    "df_model = df[var_y + var_x]\n",
    "df_model.head()"
   ]
  },
  {
   "cell_type": "code",
   "execution_count": 67,
   "metadata": {},
   "outputs": [
    {
     "data": {
      "text/plain": [
       "{2, 22, 23, 24}"
      ]
     },
     "execution_count": 67,
     "metadata": {},
     "output_type": "execute_result"
    }
   ],
   "source": [
    "df_model = df_model.dropna()\n",
    "# Tranformar la columna rating_group_ordinal a int\n",
    "df_model['Rating_ordinal'] = df_model['Rating_ordinal'].astype(int)\n",
    "# XXX lo reordenamos pero hay que ver porque faltan estos\n",
    "set(range(1,27)) - set(df_model['Rating_ordinal'])"
   ]
  },
  {
   "cell_type": "code",
   "execution_count": 69,
   "metadata": {},
   "outputs": [
    {
     "data": {
      "text/plain": [
       "{0, 1, 2, 3, 4, 5, 6, 7, 8, 9, 10, 11, 12, 13, 14, 15, 16, 17, 18, 19, 20, 21}"
      ]
     },
     "execution_count": 69,
     "metadata": {},
     "output_type": "execute_result"
    }
   ],
   "source": [
    "# reorder the column Rating_ordinal to start from 0 to 26\n",
    "for i,ordinal in enumerate(set(df_model['Rating_ordinal'])):\n",
    "    df_model['Rating_ordinal'] = df_model['Rating_ordinal'].replace(ordinal, i)\n",
    "set(df_model['Rating_ordinal'])"
   ]
  },
  {
   "cell_type": "code",
   "execution_count": 42,
   "metadata": {},
   "outputs": [],
   "source": [
    "# XXX hacemos un apaño para que entre en el modeo pero hay qe ver porque no tengo 8\n",
    "mask = df_model['Rating_group_ordinal'] == 9\n",
    "df_model.loc[mask, 'Rating_group_ordinal'] = 8"
   ]
  },
  {
   "cell_type": "code",
   "execution_count": 70,
   "metadata": {},
   "outputs": [
    {
     "data": {
      "text/html": [
       "<div>\n",
       "<style scoped>\n",
       "    .dataframe tbody tr th:only-of-type {\n",
       "        vertical-align: middle;\n",
       "    }\n",
       "\n",
       "    .dataframe tbody tr th {\n",
       "        vertical-align: top;\n",
       "    }\n",
       "\n",
       "    .dataframe thead th {\n",
       "        text-align: right;\n",
       "    }\n",
       "</style>\n",
       "<table border=\"1\" class=\"dataframe\">\n",
       "  <thead>\n",
       "    <tr style=\"text-align: right;\">\n",
       "      <th></th>\n",
       "      <th>count</th>\n",
       "      <th>mean</th>\n",
       "      <th>std</th>\n",
       "      <th>min</th>\n",
       "      <th>25%</th>\n",
       "      <th>50%</th>\n",
       "      <th>75%</th>\n",
       "      <th>max</th>\n",
       "    </tr>\n",
       "  </thead>\n",
       "  <tbody>\n",
       "    <tr>\n",
       "      <th>Rating_ordinal</th>\n",
       "      <td>23183.0</td>\n",
       "      <td>8.807618</td>\n",
       "      <td>3.420669</td>\n",
       "      <td>0.000000</td>\n",
       "      <td>7.000000</td>\n",
       "      <td>8.000000</td>\n",
       "      <td>11.000000</td>\n",
       "      <td>21.000000</td>\n",
       "    </tr>\n",
       "    <tr>\n",
       "      <th>Net Debt to EBITDA</th>\n",
       "      <td>23183.0</td>\n",
       "      <td>4.466823</td>\n",
       "      <td>3.769385</td>\n",
       "      <td>0.000000</td>\n",
       "      <td>1.883149</td>\n",
       "      <td>3.421204</td>\n",
       "      <td>5.693014</td>\n",
       "      <td>15.000000</td>\n",
       "    </tr>\n",
       "    <tr>\n",
       "      <th>Current Ratio</th>\n",
       "      <td>23183.0</td>\n",
       "      <td>1.265094</td>\n",
       "      <td>0.644012</td>\n",
       "      <td>-1.810261</td>\n",
       "      <td>0.815800</td>\n",
       "      <td>1.168088</td>\n",
       "      <td>1.600198</td>\n",
       "      <td>4.204907</td>\n",
       "    </tr>\n",
       "    <tr>\n",
       "      <th>Quick Ratio</th>\n",
       "      <td>23183.0</td>\n",
       "      <td>0.743553</td>\n",
       "      <td>0.389758</td>\n",
       "      <td>0.000000</td>\n",
       "      <td>0.448677</td>\n",
       "      <td>0.695380</td>\n",
       "      <td>0.992845</td>\n",
       "      <td>2.011484</td>\n",
       "    </tr>\n",
       "    <tr>\n",
       "      <th>Cash ratio</th>\n",
       "      <td>23183.0</td>\n",
       "      <td>0.272413</td>\n",
       "      <td>0.230250</td>\n",
       "      <td>-0.012686</td>\n",
       "      <td>0.085664</td>\n",
       "      <td>0.216185</td>\n",
       "      <td>0.404038</td>\n",
       "      <td>0.961125</td>\n",
       "    </tr>\n",
       "    <tr>\n",
       "      <th>Long Term Debt to Equity</th>\n",
       "      <td>23183.0</td>\n",
       "      <td>1.195916</td>\n",
       "      <td>1.142892</td>\n",
       "      <td>0.000000</td>\n",
       "      <td>0.466426</td>\n",
       "      <td>0.811940</td>\n",
       "      <td>1.394323</td>\n",
       "      <td>4.593871</td>\n",
       "    </tr>\n",
       "    <tr>\n",
       "      <th>Debt ratio</th>\n",
       "      <td>23183.0</td>\n",
       "      <td>3.252083</td>\n",
       "      <td>1.656280</td>\n",
       "      <td>0.452000</td>\n",
       "      <td>2.110077</td>\n",
       "      <td>2.813754</td>\n",
       "      <td>3.845122</td>\n",
       "      <td>10.164151</td>\n",
       "    </tr>\n",
       "    <tr>\n",
       "      <th>Financial Leverage</th>\n",
       "      <td>23183.0</td>\n",
       "      <td>3.840507</td>\n",
       "      <td>2.946880</td>\n",
       "      <td>1.129610</td>\n",
       "      <td>2.193579</td>\n",
       "      <td>2.872578</td>\n",
       "      <td>4.040411</td>\n",
       "      <td>14.886094</td>\n",
       "    </tr>\n",
       "    <tr>\n",
       "      <th>Sector_ordinal</th>\n",
       "      <td>23183.0</td>\n",
       "      <td>4.930423</td>\n",
       "      <td>3.086806</td>\n",
       "      <td>0.000000</td>\n",
       "      <td>2.000000</td>\n",
       "      <td>5.000000</td>\n",
       "      <td>7.000000</td>\n",
       "      <td>10.000000</td>\n",
       "    </tr>\n",
       "  </tbody>\n",
       "</table>\n",
       "</div>"
      ],
      "text/plain": [
       "                            count      mean       std       min       25%  \\\n",
       "Rating_ordinal            23183.0  8.807618  3.420669  0.000000  7.000000   \n",
       "Net Debt to EBITDA        23183.0  4.466823  3.769385  0.000000  1.883149   \n",
       "Current Ratio             23183.0  1.265094  0.644012 -1.810261  0.815800   \n",
       "Quick Ratio               23183.0  0.743553  0.389758  0.000000  0.448677   \n",
       "Cash ratio                23183.0  0.272413  0.230250 -0.012686  0.085664   \n",
       "Long Term Debt to Equity  23183.0  1.195916  1.142892  0.000000  0.466426   \n",
       "Debt ratio                23183.0  3.252083  1.656280  0.452000  2.110077   \n",
       "Financial Leverage        23183.0  3.840507  2.946880  1.129610  2.193579   \n",
       "Sector_ordinal            23183.0  4.930423  3.086806  0.000000  2.000000   \n",
       "\n",
       "                               50%        75%        max  \n",
       "Rating_ordinal            8.000000  11.000000  21.000000  \n",
       "Net Debt to EBITDA        3.421204   5.693014  15.000000  \n",
       "Current Ratio             1.168088   1.600198   4.204907  \n",
       "Quick Ratio               0.695380   0.992845   2.011484  \n",
       "Cash ratio                0.216185   0.404038   0.961125  \n",
       "Long Term Debt to Equity  0.811940   1.394323   4.593871  \n",
       "Debt ratio                2.813754   3.845122  10.164151  \n",
       "Financial Leverage        2.872578   4.040411  14.886094  \n",
       "Sector_ordinal            5.000000   7.000000  10.000000  "
      ]
     },
     "execution_count": 70,
     "metadata": {},
     "output_type": "execute_result"
    }
   ],
   "source": [
    "df_model.describe().transpose() # XXX ver ti tambien es importante el año"
   ]
  },
  {
   "cell_type": "code",
   "execution_count": 62,
   "metadata": {},
   "outputs": [
    {
     "data": {
      "text/plain": [
       "Rating\n",
       "BBB     3434\n",
       "BBB+    3097\n",
       "A-      2454\n",
       "BBB-    2341\n",
       "BB      1783\n",
       "BB+     1619\n",
       "BB-     1516\n",
       "B+      1287\n",
       "B       1237\n",
       "A       1212\n",
       "A+       815\n",
       "B-       648\n",
       "AA-      453\n",
       "AA       361\n",
       "CCC+     302\n",
       "AA+      249\n",
       "CCC      127\n",
       "AAA      102\n",
       "D         69\n",
       "CCC-      45\n",
       "SD        20\n",
       "CC        12\n",
       "Name: count, dtype: int64"
      ]
     },
     "execution_count": 62,
     "metadata": {},
     "output_type": "execute_result"
    }
   ],
   "source": [
    "# count the number of rows for each rating\n",
    "df['Rating'].value_counts()"
   ]
  },
  {
   "cell_type": "markdown",
   "metadata": {},
   "source": [
    "Ya tenemos los datos limpios y podemos empezar a crear el modelo.\n",
    "\n",
    "Dado que tu variable objetivo, \"Rating\", es categórica y tiene un orden intrínseco, y estás interesado en predecirla a partir de una serie de variables predictoras tanto numéricas como categóricas, el tipo de regresión más adecuado para tu análisis sería una regresión ordinal.\n",
    "\n",
    "La regresión ordinal es una variante de regresión lineal que es adecuada para variables dependientes categóricas con un orden claro, como es el caso de tu variable \"Rating\". A diferencia de la regresión lineal clásica, que asume una variable dependiente continua, o de los modelos de clasificación como la regresión logística, que tratan con categorías sin un orden inherente, la regresión ordinal considera el orden natural entre las categorías de la variable de respuesta."
   ]
  },
  {
   "cell_type": "code",
   "execution_count": 35,
   "metadata": {},
   "outputs": [],
   "source": [
    "import mord # XXX update requirements.txt\n",
    "from sklearn.model_selection import train_test_split\n",
    "from sklearn.preprocessing import StandardScaler"
   ]
  },
  {
   "cell_type": "code",
   "execution_count": 71,
   "metadata": {},
   "outputs": [],
   "source": [
    "# Asumiendo que df es tu DataFrame y ya has transformado \"sector\" a numérica y \"Rating\" a ordinal\n",
    "X = df_model[var_x]\n",
    "y = df_model[var_y]"
   ]
  },
  {
   "cell_type": "code",
   "execution_count": 72,
   "metadata": {},
   "outputs": [],
   "source": [
    "# Dividir los datos en conjuntos de entrenamiento y prueba\n",
    "X_train, X_test, y_train, y_test = train_test_split(X, y, test_size=0.2, random_state=42)\n",
    "\n",
    "# Normalización de los predictores\n",
    "scaler = StandardScaler()\n",
    "X_train_scaled = scaler.fit_transform(X_train)\n",
    "X_test_scaled = scaler.transform(X_test)"
   ]
  },
  {
   "cell_type": "code",
   "execution_count": 73,
   "metadata": {},
   "outputs": [
    {
     "name": "stderr",
     "output_type": "stream",
     "text": [
      "c:\\Users\\Ruben\\Documents\\PhD_AI\\Clases\\estadistica\\rating_analisis\\env_ratings\\lib\\site-packages\\sklearn\\utils\\validation.py:1300: DataConversionWarning: A column-vector y was passed when a 1d array was expected. Please change the shape of y to (n_samples, ), for example using ravel().\n",
      "  y = column_or_1d(y, warn=True)\n"
     ]
    },
    {
     "data": {
      "text/html": [
       "<style>#sk-container-id-2 {\n",
       "  /* Definition of color scheme common for light and dark mode */\n",
       "  --sklearn-color-text: black;\n",
       "  --sklearn-color-line: gray;\n",
       "  /* Definition of color scheme for unfitted estimators */\n",
       "  --sklearn-color-unfitted-level-0: #fff5e6;\n",
       "  --sklearn-color-unfitted-level-1: #f6e4d2;\n",
       "  --sklearn-color-unfitted-level-2: #ffe0b3;\n",
       "  --sklearn-color-unfitted-level-3: chocolate;\n",
       "  /* Definition of color scheme for fitted estimators */\n",
       "  --sklearn-color-fitted-level-0: #f0f8ff;\n",
       "  --sklearn-color-fitted-level-1: #d4ebff;\n",
       "  --sklearn-color-fitted-level-2: #b3dbfd;\n",
       "  --sklearn-color-fitted-level-3: cornflowerblue;\n",
       "\n",
       "  /* Specific color for light theme */\n",
       "  --sklearn-color-text-on-default-background: var(--sg-text-color, var(--theme-code-foreground, var(--jp-content-font-color1, black)));\n",
       "  --sklearn-color-background: var(--sg-background-color, var(--theme-background, var(--jp-layout-color0, white)));\n",
       "  --sklearn-color-border-box: var(--sg-text-color, var(--theme-code-foreground, var(--jp-content-font-color1, black)));\n",
       "  --sklearn-color-icon: #696969;\n",
       "\n",
       "  @media (prefers-color-scheme: dark) {\n",
       "    /* Redefinition of color scheme for dark theme */\n",
       "    --sklearn-color-text-on-default-background: var(--sg-text-color, var(--theme-code-foreground, var(--jp-content-font-color1, white)));\n",
       "    --sklearn-color-background: var(--sg-background-color, var(--theme-background, var(--jp-layout-color0, #111)));\n",
       "    --sklearn-color-border-box: var(--sg-text-color, var(--theme-code-foreground, var(--jp-content-font-color1, white)));\n",
       "    --sklearn-color-icon: #878787;\n",
       "  }\n",
       "}\n",
       "\n",
       "#sk-container-id-2 {\n",
       "  color: var(--sklearn-color-text);\n",
       "}\n",
       "\n",
       "#sk-container-id-2 pre {\n",
       "  padding: 0;\n",
       "}\n",
       "\n",
       "#sk-container-id-2 input.sk-hidden--visually {\n",
       "  border: 0;\n",
       "  clip: rect(1px 1px 1px 1px);\n",
       "  clip: rect(1px, 1px, 1px, 1px);\n",
       "  height: 1px;\n",
       "  margin: -1px;\n",
       "  overflow: hidden;\n",
       "  padding: 0;\n",
       "  position: absolute;\n",
       "  width: 1px;\n",
       "}\n",
       "\n",
       "#sk-container-id-2 div.sk-dashed-wrapped {\n",
       "  border: 1px dashed var(--sklearn-color-line);\n",
       "  margin: 0 0.4em 0.5em 0.4em;\n",
       "  box-sizing: border-box;\n",
       "  padding-bottom: 0.4em;\n",
       "  background-color: var(--sklearn-color-background);\n",
       "}\n",
       "\n",
       "#sk-container-id-2 div.sk-container {\n",
       "  /* jupyter's `normalize.less` sets `[hidden] { display: none; }`\n",
       "     but bootstrap.min.css set `[hidden] { display: none !important; }`\n",
       "     so we also need the `!important` here to be able to override the\n",
       "     default hidden behavior on the sphinx rendered scikit-learn.org.\n",
       "     See: https://github.com/scikit-learn/scikit-learn/issues/21755 */\n",
       "  display: inline-block !important;\n",
       "  position: relative;\n",
       "}\n",
       "\n",
       "#sk-container-id-2 div.sk-text-repr-fallback {\n",
       "  display: none;\n",
       "}\n",
       "\n",
       "div.sk-parallel-item,\n",
       "div.sk-serial,\n",
       "div.sk-item {\n",
       "  /* draw centered vertical line to link estimators */\n",
       "  background-image: linear-gradient(var(--sklearn-color-text-on-default-background), var(--sklearn-color-text-on-default-background));\n",
       "  background-size: 2px 100%;\n",
       "  background-repeat: no-repeat;\n",
       "  background-position: center center;\n",
       "}\n",
       "\n",
       "/* Parallel-specific style estimator block */\n",
       "\n",
       "#sk-container-id-2 div.sk-parallel-item::after {\n",
       "  content: \"\";\n",
       "  width: 100%;\n",
       "  border-bottom: 2px solid var(--sklearn-color-text-on-default-background);\n",
       "  flex-grow: 1;\n",
       "}\n",
       "\n",
       "#sk-container-id-2 div.sk-parallel {\n",
       "  display: flex;\n",
       "  align-items: stretch;\n",
       "  justify-content: center;\n",
       "  background-color: var(--sklearn-color-background);\n",
       "  position: relative;\n",
       "}\n",
       "\n",
       "#sk-container-id-2 div.sk-parallel-item {\n",
       "  display: flex;\n",
       "  flex-direction: column;\n",
       "}\n",
       "\n",
       "#sk-container-id-2 div.sk-parallel-item:first-child::after {\n",
       "  align-self: flex-end;\n",
       "  width: 50%;\n",
       "}\n",
       "\n",
       "#sk-container-id-2 div.sk-parallel-item:last-child::after {\n",
       "  align-self: flex-start;\n",
       "  width: 50%;\n",
       "}\n",
       "\n",
       "#sk-container-id-2 div.sk-parallel-item:only-child::after {\n",
       "  width: 0;\n",
       "}\n",
       "\n",
       "/* Serial-specific style estimator block */\n",
       "\n",
       "#sk-container-id-2 div.sk-serial {\n",
       "  display: flex;\n",
       "  flex-direction: column;\n",
       "  align-items: center;\n",
       "  background-color: var(--sklearn-color-background);\n",
       "  padding-right: 1em;\n",
       "  padding-left: 1em;\n",
       "}\n",
       "\n",
       "\n",
       "/* Toggleable style: style used for estimator/Pipeline/ColumnTransformer box that is\n",
       "clickable and can be expanded/collapsed.\n",
       "- Pipeline and ColumnTransformer use this feature and define the default style\n",
       "- Estimators will overwrite some part of the style using the `sk-estimator` class\n",
       "*/\n",
       "\n",
       "/* Pipeline and ColumnTransformer style (default) */\n",
       "\n",
       "#sk-container-id-2 div.sk-toggleable {\n",
       "  /* Default theme specific background. It is overwritten whether we have a\n",
       "  specific estimator or a Pipeline/ColumnTransformer */\n",
       "  background-color: var(--sklearn-color-background);\n",
       "}\n",
       "\n",
       "/* Toggleable label */\n",
       "#sk-container-id-2 label.sk-toggleable__label {\n",
       "  cursor: pointer;\n",
       "  display: block;\n",
       "  width: 100%;\n",
       "  margin-bottom: 0;\n",
       "  padding: 0.5em;\n",
       "  box-sizing: border-box;\n",
       "  text-align: center;\n",
       "}\n",
       "\n",
       "#sk-container-id-2 label.sk-toggleable__label-arrow:before {\n",
       "  /* Arrow on the left of the label */\n",
       "  content: \"▸\";\n",
       "  float: left;\n",
       "  margin-right: 0.25em;\n",
       "  color: var(--sklearn-color-icon);\n",
       "}\n",
       "\n",
       "#sk-container-id-2 label.sk-toggleable__label-arrow:hover:before {\n",
       "  color: var(--sklearn-color-text);\n",
       "}\n",
       "\n",
       "/* Toggleable content - dropdown */\n",
       "\n",
       "#sk-container-id-2 div.sk-toggleable__content {\n",
       "  max-height: 0;\n",
       "  max-width: 0;\n",
       "  overflow: hidden;\n",
       "  text-align: left;\n",
       "  /* unfitted */\n",
       "  background-color: var(--sklearn-color-unfitted-level-0);\n",
       "}\n",
       "\n",
       "#sk-container-id-2 div.sk-toggleable__content.fitted {\n",
       "  /* fitted */\n",
       "  background-color: var(--sklearn-color-fitted-level-0);\n",
       "}\n",
       "\n",
       "#sk-container-id-2 div.sk-toggleable__content pre {\n",
       "  margin: 0.2em;\n",
       "  border-radius: 0.25em;\n",
       "  color: var(--sklearn-color-text);\n",
       "  /* unfitted */\n",
       "  background-color: var(--sklearn-color-unfitted-level-0);\n",
       "}\n",
       "\n",
       "#sk-container-id-2 div.sk-toggleable__content.fitted pre {\n",
       "  /* unfitted */\n",
       "  background-color: var(--sklearn-color-fitted-level-0);\n",
       "}\n",
       "\n",
       "#sk-container-id-2 input.sk-toggleable__control:checked~div.sk-toggleable__content {\n",
       "  /* Expand drop-down */\n",
       "  max-height: 200px;\n",
       "  max-width: 100%;\n",
       "  overflow: auto;\n",
       "}\n",
       "\n",
       "#sk-container-id-2 input.sk-toggleable__control:checked~label.sk-toggleable__label-arrow:before {\n",
       "  content: \"▾\";\n",
       "}\n",
       "\n",
       "/* Pipeline/ColumnTransformer-specific style */\n",
       "\n",
       "#sk-container-id-2 div.sk-label input.sk-toggleable__control:checked~label.sk-toggleable__label {\n",
       "  color: var(--sklearn-color-text);\n",
       "  background-color: var(--sklearn-color-unfitted-level-2);\n",
       "}\n",
       "\n",
       "#sk-container-id-2 div.sk-label.fitted input.sk-toggleable__control:checked~label.sk-toggleable__label {\n",
       "  background-color: var(--sklearn-color-fitted-level-2);\n",
       "}\n",
       "\n",
       "/* Estimator-specific style */\n",
       "\n",
       "/* Colorize estimator box */\n",
       "#sk-container-id-2 div.sk-estimator input.sk-toggleable__control:checked~label.sk-toggleable__label {\n",
       "  /* unfitted */\n",
       "  background-color: var(--sklearn-color-unfitted-level-2);\n",
       "}\n",
       "\n",
       "#sk-container-id-2 div.sk-estimator.fitted input.sk-toggleable__control:checked~label.sk-toggleable__label {\n",
       "  /* fitted */\n",
       "  background-color: var(--sklearn-color-fitted-level-2);\n",
       "}\n",
       "\n",
       "#sk-container-id-2 div.sk-label label.sk-toggleable__label,\n",
       "#sk-container-id-2 div.sk-label label {\n",
       "  /* The background is the default theme color */\n",
       "  color: var(--sklearn-color-text-on-default-background);\n",
       "}\n",
       "\n",
       "/* On hover, darken the color of the background */\n",
       "#sk-container-id-2 div.sk-label:hover label.sk-toggleable__label {\n",
       "  color: var(--sklearn-color-text);\n",
       "  background-color: var(--sklearn-color-unfitted-level-2);\n",
       "}\n",
       "\n",
       "/* Label box, darken color on hover, fitted */\n",
       "#sk-container-id-2 div.sk-label.fitted:hover label.sk-toggleable__label.fitted {\n",
       "  color: var(--sklearn-color-text);\n",
       "  background-color: var(--sklearn-color-fitted-level-2);\n",
       "}\n",
       "\n",
       "/* Estimator label */\n",
       "\n",
       "#sk-container-id-2 div.sk-label label {\n",
       "  font-family: monospace;\n",
       "  font-weight: bold;\n",
       "  display: inline-block;\n",
       "  line-height: 1.2em;\n",
       "}\n",
       "\n",
       "#sk-container-id-2 div.sk-label-container {\n",
       "  text-align: center;\n",
       "}\n",
       "\n",
       "/* Estimator-specific */\n",
       "#sk-container-id-2 div.sk-estimator {\n",
       "  font-family: monospace;\n",
       "  border: 1px dotted var(--sklearn-color-border-box);\n",
       "  border-radius: 0.25em;\n",
       "  box-sizing: border-box;\n",
       "  margin-bottom: 0.5em;\n",
       "  /* unfitted */\n",
       "  background-color: var(--sklearn-color-unfitted-level-0);\n",
       "}\n",
       "\n",
       "#sk-container-id-2 div.sk-estimator.fitted {\n",
       "  /* fitted */\n",
       "  background-color: var(--sklearn-color-fitted-level-0);\n",
       "}\n",
       "\n",
       "/* on hover */\n",
       "#sk-container-id-2 div.sk-estimator:hover {\n",
       "  /* unfitted */\n",
       "  background-color: var(--sklearn-color-unfitted-level-2);\n",
       "}\n",
       "\n",
       "#sk-container-id-2 div.sk-estimator.fitted:hover {\n",
       "  /* fitted */\n",
       "  background-color: var(--sklearn-color-fitted-level-2);\n",
       "}\n",
       "\n",
       "/* Specification for estimator info (e.g. \"i\" and \"?\") */\n",
       "\n",
       "/* Common style for \"i\" and \"?\" */\n",
       "\n",
       ".sk-estimator-doc-link,\n",
       "a:link.sk-estimator-doc-link,\n",
       "a:visited.sk-estimator-doc-link {\n",
       "  float: right;\n",
       "  font-size: smaller;\n",
       "  line-height: 1em;\n",
       "  font-family: monospace;\n",
       "  background-color: var(--sklearn-color-background);\n",
       "  border-radius: 1em;\n",
       "  height: 1em;\n",
       "  width: 1em;\n",
       "  text-decoration: none !important;\n",
       "  margin-left: 1ex;\n",
       "  /* unfitted */\n",
       "  border: var(--sklearn-color-unfitted-level-1) 1pt solid;\n",
       "  color: var(--sklearn-color-unfitted-level-1);\n",
       "}\n",
       "\n",
       ".sk-estimator-doc-link.fitted,\n",
       "a:link.sk-estimator-doc-link.fitted,\n",
       "a:visited.sk-estimator-doc-link.fitted {\n",
       "  /* fitted */\n",
       "  border: var(--sklearn-color-fitted-level-1) 1pt solid;\n",
       "  color: var(--sklearn-color-fitted-level-1);\n",
       "}\n",
       "\n",
       "/* On hover */\n",
       "div.sk-estimator:hover .sk-estimator-doc-link:hover,\n",
       ".sk-estimator-doc-link:hover,\n",
       "div.sk-label-container:hover .sk-estimator-doc-link:hover,\n",
       ".sk-estimator-doc-link:hover {\n",
       "  /* unfitted */\n",
       "  background-color: var(--sklearn-color-unfitted-level-3);\n",
       "  color: var(--sklearn-color-background);\n",
       "  text-decoration: none;\n",
       "}\n",
       "\n",
       "div.sk-estimator.fitted:hover .sk-estimator-doc-link.fitted:hover,\n",
       ".sk-estimator-doc-link.fitted:hover,\n",
       "div.sk-label-container:hover .sk-estimator-doc-link.fitted:hover,\n",
       ".sk-estimator-doc-link.fitted:hover {\n",
       "  /* fitted */\n",
       "  background-color: var(--sklearn-color-fitted-level-3);\n",
       "  color: var(--sklearn-color-background);\n",
       "  text-decoration: none;\n",
       "}\n",
       "\n",
       "/* Span, style for the box shown on hovering the info icon */\n",
       ".sk-estimator-doc-link span {\n",
       "  display: none;\n",
       "  z-index: 9999;\n",
       "  position: relative;\n",
       "  font-weight: normal;\n",
       "  right: .2ex;\n",
       "  padding: .5ex;\n",
       "  margin: .5ex;\n",
       "  width: min-content;\n",
       "  min-width: 20ex;\n",
       "  max-width: 50ex;\n",
       "  color: var(--sklearn-color-text);\n",
       "  box-shadow: 2pt 2pt 4pt #999;\n",
       "  /* unfitted */\n",
       "  background: var(--sklearn-color-unfitted-level-0);\n",
       "  border: .5pt solid var(--sklearn-color-unfitted-level-3);\n",
       "}\n",
       "\n",
       ".sk-estimator-doc-link.fitted span {\n",
       "  /* fitted */\n",
       "  background: var(--sklearn-color-fitted-level-0);\n",
       "  border: var(--sklearn-color-fitted-level-3);\n",
       "}\n",
       "\n",
       ".sk-estimator-doc-link:hover span {\n",
       "  display: block;\n",
       "}\n",
       "\n",
       "/* \"?\"-specific style due to the `<a>` HTML tag */\n",
       "\n",
       "#sk-container-id-2 a.estimator_doc_link {\n",
       "  float: right;\n",
       "  font-size: 1rem;\n",
       "  line-height: 1em;\n",
       "  font-family: monospace;\n",
       "  background-color: var(--sklearn-color-background);\n",
       "  border-radius: 1rem;\n",
       "  height: 1rem;\n",
       "  width: 1rem;\n",
       "  text-decoration: none;\n",
       "  /* unfitted */\n",
       "  color: var(--sklearn-color-unfitted-level-1);\n",
       "  border: var(--sklearn-color-unfitted-level-1) 1pt solid;\n",
       "}\n",
       "\n",
       "#sk-container-id-2 a.estimator_doc_link.fitted {\n",
       "  /* fitted */\n",
       "  border: var(--sklearn-color-fitted-level-1) 1pt solid;\n",
       "  color: var(--sklearn-color-fitted-level-1);\n",
       "}\n",
       "\n",
       "/* On hover */\n",
       "#sk-container-id-2 a.estimator_doc_link:hover {\n",
       "  /* unfitted */\n",
       "  background-color: var(--sklearn-color-unfitted-level-3);\n",
       "  color: var(--sklearn-color-background);\n",
       "  text-decoration: none;\n",
       "}\n",
       "\n",
       "#sk-container-id-2 a.estimator_doc_link.fitted:hover {\n",
       "  /* fitted */\n",
       "  background-color: var(--sklearn-color-fitted-level-3);\n",
       "}\n",
       "</style><div id=\"sk-container-id-2\" class=\"sk-top-container\"><div class=\"sk-text-repr-fallback\"><pre>LogisticAT()</pre><b>In a Jupyter environment, please rerun this cell to show the HTML representation or trust the notebook. <br />On GitHub, the HTML representation is unable to render, please try loading this page with nbviewer.org.</b></div><div class=\"sk-container\" hidden><div class=\"sk-item\"><div class=\"sk-estimator fitted sk-toggleable\"><input class=\"sk-toggleable__control sk-hidden--visually\" id=\"sk-estimator-id-2\" type=\"checkbox\" checked><label for=\"sk-estimator-id-2\" class=\"sk-toggleable__label fitted sk-toggleable__label-arrow fitted\">&nbsp;LogisticAT<span class=\"sk-estimator-doc-link fitted\">i<span>Fitted</span></span></label><div class=\"sk-toggleable__content fitted\"><pre>LogisticAT()</pre></div> </div></div></div></div>"
      ],
      "text/plain": [
       "LogisticAT()"
      ]
     },
     "execution_count": 73,
     "metadata": {},
     "output_type": "execute_result"
    }
   ],
   "source": [
    "# Ajustar el modelo de regresión ordinal\n",
    "model = mord.LogisticAT(alpha=1.0)  # LogisticAT es uno de los modelos disponibles en mord\n",
    "model.fit(X_train_scaled, y_train.values)"
   ]
  },
  {
   "cell_type": "code",
   "execution_count": 74,
   "metadata": {},
   "outputs": [
    {
     "data": {
      "text/plain": [
       "array([8, 8, 8, ..., 8, 8, 9])"
      ]
     },
     "execution_count": 74,
     "metadata": {},
     "output_type": "execute_result"
    }
   ],
   "source": [
    "# Hacer predicciones\n",
    "y_pred = model.predict(X_test_scaled)\n",
    "y_pred"
   ]
  },
  {
   "cell_type": "code",
   "execution_count": 75,
   "metadata": {},
   "outputs": [
    {
     "name": "stdout",
     "output_type": "stream",
     "text": [
      "Mean Absolute Error: 2.4323916325210266\n"
     ]
    }
   ],
   "source": [
    "from sklearn.metrics import mean_absolute_error\n",
    "\n",
    "# Aquí podrías calcular métricas de rendimiento, como la precisión o el Mean Absolute Error (MAE)\n",
    "mae = mean_absolute_error(y_test, y_pred)\n",
    "print(f\"Mean Absolute Error: {mae}\")"
   ]
  },
  {
   "cell_type": "code",
   "execution_count": 77,
   "metadata": {},
   "outputs": [
    {
     "data": {
      "text/plain": [
       "dict_keys(['AAA+', 'AAA', 'AAA-', 'AA+', 'AA', 'AA-', 'A+', 'A', 'A-', 'BBB+', 'BBB', 'BBB-', 'BB+', 'BB', 'BB-', 'B+', 'B', 'B-', 'CCC+', 'CCC', 'CCC-', 'CC', 'C+', 'C', 'C-', 'D'])"
      ]
     },
     "execution_count": 77,
     "metadata": {},
     "output_type": "execute_result"
    }
   ],
   "source": [
    "All_rating_order_group = {'AAA+':'AAA','AAA':'AAA','AAA-':'AAA',\n",
    "                    'AA+':'AA','AA':'AA','AA-':'AA','A+':'A','A':'A','A-':'A',\n",
    "                    'BBB+':'BBB','BBB':'BBB','BBB-':'BBB','BB+':'BB','BB':'BB','BB-':'BB','B+':'B','B':'B','B-':'B',\n",
    "                    'CCC+':'CCC','CCC':'CCC','CCC-':'CCC','CC':'CC','C+':'C','C':'C','C-':'C','D':'D'}\n",
    "All_rating_order_group.keys()"
   ]
  },
  {
   "cell_type": "code",
   "execution_count": 80,
   "metadata": {},
   "outputs": [
    {
     "data": {
      "image/png": "[encoded data removed]",
      "text/plain": [
       "<Figure size 1200x800 with 2 Axes>"
      ]
     },
     "metadata": {},
     "output_type": "display_data"
    }
   ],
   "source": [
    "# plot the confusion matrix\n",
    "from sklearn.metrics import confusion_matrix\n",
    "import matplotlib.pyplot as plt\n",
    "import seaborn as sns\n",
    "\n",
    "cm = confusion_matrix(y_test, y_pred)\n",
    "plt.figure(figsize=(12, 8))\n",
    "sns.heatmap(cm, annot=True, fmt=\"d\")\n",
    "# change the x and y tick labels by the rating ['AAA', 'AA', 'A', 'BBB', 'BB', 'B', 'CCC', 'CC', 'D']\n",
    "plt.xticks(ticks=[0.5 + i for i in range(22)], labels=['AAA+', 'AAA', 'AAA-', 'AA+', 'AA', 'AA-', 'A+', 'A', 'A-', 'BBB+', 'BBB', 'BBB-', 'BB+', 'BB', 'BB-', 'B+', 'B', 'B-', 'CCC+', 'CCC', 'CCC-', 'D'])\n",
    "plt.yticks(ticks=[0.5 + i for i in range(22)], labels=['AAA+', 'AAA', 'AAA-', 'AA+', 'AA', 'AA-', 'A+', 'A', 'A-', 'BBB+', 'BBB', 'BBB-', 'BB+', 'BB', 'BB-', 'B+', 'B', 'B-', 'CCC+', 'CCC', 'CCC-', 'D'])\n",
    "plt.xlabel('Predicted')\n",
    "plt.ylabel('Actual')\n",
    "plt.show()\n"
   ]
  },
  {
   "cell_type": "code",
   "execution_count": 56,
   "metadata": {},
   "outputs": [
    {
     "name": "stdout",
     "output_type": "stream",
     "text": [
      "Accuracy: 0.40578458881933954\n"
     ]
    }
   ],
   "source": [
    "from sklearn.metrics import accuracy_score\n",
    "\n",
    "accuracy = accuracy_score(y_test, y_pred)\n",
    "print(f\"Accuracy: {accuracy}\")\n"
   ]
  },
  {
   "cell_type": "code",
   "execution_count": 57,
   "metadata": {},
   "outputs": [
    {
     "name": "stdout",
     "output_type": "stream",
     "text": [
      "Cohen's Kappa: 0.08411469368196944\n"
     ]
    }
   ],
   "source": [
    "from sklearn.metrics import cohen_kappa_score\n",
    "\n",
    "kappa = cohen_kappa_score(y_test, y_pred)\n",
    "print(f\"Cohen's Kappa: {kappa}\")\n"
   ]
  },
  {
   "cell_type": "code",
   "execution_count": null,
   "metadata": {},
   "outputs": [],
   "source": [
    "# XXX Sacar el IBEX 35 y todas las comparables de los WACC que hemos hecho y ver que predicen y que rating real tienen "
   ]
  },
  {
   "cell_type": "code",
   "execution_count": null,
   "metadata": {},
   "outputs": [],
   "source": []
  },
  {
   "cell_type": "code",
   "execution_count": null,
   "metadata": {},
   "outputs": [],
   "source": []
  },
  {
   "cell_type": "code",
   "execution_count": null,
   "metadata": {},
   "outputs": [],
   "source": []
  },
  {
   "cell_type": "code",
   "execution_count": 82,
   "metadata": {},
   "outputs": [
    {
     "name": "stderr",
     "output_type": "stream",
     "text": [
      "c:\\python\\python38-32\\lib\\site-packages\\sklearn\\svm\\_base.py:976: ConvergenceWarning:\n",
      "\n",
      "Liblinear failed to converge, increase the number of iterations.\n",
      "\n"
     ]
    },
    {
     "data": {
      "text/plain": [
       "Pipeline(steps=[('scaler', StandardScaler()),\n",
       "                ('linear_svc', LinearSVC(C=1, loss='hinge', max_iter=500))])"
      ]
     },
     "execution_count": 82,
     "metadata": {},
     "output_type": "execute_result"
    }
   ],
   "source": [
    "svm_clf = Pipeline([\n",
    "(\"scaler\", StandardScaler()),\n",
    "(\"linear_svc\", LinearSVC(C=1, loss=\"hinge\", max_iter=500)),\n",
    "])\n",
    "svm_clf.fit(X, y)"
   ]
  },
  {
   "cell_type": "markdown",
   "metadata": {},
   "source": [
    "Medimos el error con los datos de testeo"
   ]
  },
  {
   "cell_type": "code",
   "execution_count": 83,
   "metadata": {},
   "outputs": [
    {
     "data": {
      "text/plain": [
       "array([1.10000000e+01, 9.00970730e-01, 1.30018220e-01, 1.75714451e-01,\n",
       "       3.29054265e-05, 1.94324351e-05, 1.11304648e-03, 8.79585188e-01,\n",
       "       9.06104745e-01, 1.22187960e-06, 9.22177368e-01])"
      ]
     },
     "execution_count": 83,
     "metadata": {},
     "output_type": "execute_result"
    }
   ],
   "source": [
    "X[1]"
   ]
  },
  {
   "cell_type": "code",
   "execution_count": 84,
   "metadata": {},
   "outputs": [
    {
     "data": {
      "text/plain": [
       "(array([17.]), 1.0)"
      ]
     },
     "execution_count": 84,
     "metadata": {},
     "output_type": "execute_result"
    }
   ],
   "source": [
    "svm_clf.predict([X[1]]),y[1]"
   ]
  },
  {
   "cell_type": "markdown",
   "metadata": {},
   "source": [
    "## Guardar y cargar el modelo\n",
    "\n",
    "Ahora guardamos los parámtros del modelo y lo guaradamos para poder usarlo rapidamente desde excel"
   ]
  },
  {
   "cell_type": "markdown",
   "metadata": {},
   "source": [
    "Guardamos el modelo"
   ]
  },
  {
   "cell_type": "code",
   "execution_count": 85,
   "metadata": {},
   "outputs": [],
   "source": [
    "model = svm_clf\n",
    "filename = 'finalized_model.sav'\n",
    "pickle.dump(model, open(filename, 'wb'))"
   ]
  },
  {
   "cell_type": "markdown",
   "metadata": {},
   "source": [
    "Cargamos el modelo para usarlo"
   ]
  },
  {
   "cell_type": "code",
   "execution_count": 86,
   "metadata": {},
   "outputs": [],
   "source": [
    "loaded_model = pickle.load(open(filename, 'rb'))"
   ]
  },
  {
   "cell_type": "code",
   "execution_count": 87,
   "metadata": {},
   "outputs": [
    {
     "data": {
      "text/plain": [
       "(array([1.10000000e+01, 9.01106948e-01, 1.29961514e-01, 1.73846855e-01,\n",
       "        2.98227691e-05, 1.24296606e-05, 3.73541934e-04, 8.79524633e-01,\n",
       "        9.06058712e-01, 1.92278691e-05, 9.22163874e-01]),\n",
       " array([17.]),\n",
       " 1.0)"
      ]
     },
     "execution_count": 87,
     "metadata": {},
     "output_type": "execute_result"
    }
   ],
   "source": [
    "output_model = loaded_model.predict([X[10]])\n",
    "X[10],output_model,y[10]"
   ]
  },
  {
   "cell_type": "code",
   "execution_count": 88,
   "metadata": {},
   "outputs": [
    {
     "data": {
      "text/plain": [
       "('B-', 'AAA')"
      ]
     },
     "execution_count": 88,
     "metadata": {},
     "output_type": "execute_result"
    }
   ],
   "source": [
    "invers_dict_rating = {v:k for k, v in replace_map['Rating'].items()}\n",
    "invers_dict_rating[int(output_model)],invers_dict_rating[int(y[10])]"
   ]
  },
  {
   "cell_type": "markdown",
   "metadata": {},
   "source": [
    "Funcion que se llamara desde execel para usar el modelo"
   ]
  },
  {
   "cell_type": "code",
   "execution_count": 171,
   "metadata": {},
   "outputs": [],
   "source": [
    "def estimate_rating(escalados,Sector,EBITDA_Gastos_financieros,DFN_EBITDA,Deuda_Deuda_Equity,Current_Ratio,Quick_Ratio,\n",
    "                    Cash_Ratio,LT_Debt_to_equity,Total_Debt_to_Equity,Debt_Ratio,Financial_Leverage):\n",
    "    \n",
    "    Sectors = {'Communication_Services': 0,'Consumer_Discretionary': 9,'Consumer_Staples': 8,'Energy': 7,\n",
    "              'Financials': 11,'Health_Care': 4,'Industrials': 2,\n",
    "              'Information_Technology': 1,'Materials': 5,'Real_Estate': 10,'Utilities': 3}\n",
    "    \n",
    "    All_rating_order = ['AAA+','AAA','AAA-','AA+','AA','AA-','A+','A','A-','BBB+','BBB','BBB-','BB+','BB','BB-','B+','B',\n",
    "                   'B-','CCC+','CCC','CCC-','CC','C+''C','C-','D']\n",
    "    \n",
    "    replace_map = {'Sector':{industry:code for industry,code  in Sectors.items()},\n",
    "                   'Rating':{i:rating for i,rating in enumerate(All_rating_order)}}\n",
    "    \n",
    "    try:\n",
    "        X = [replace_map['Sector'][Sector],EBITDA_Gastos_financieros,DFN_EBITDA,Deuda_Deuda_Equity,\n",
    "             Current_Ratio,Quick_Ratio,Cash_Ratio,LT_Debt_to_equity,Total_Debt_to_Equity,Debt_Ratio,Financial_Leverage]\n",
    "    except Exception as e:\n",
    "        if type(e).__name__ == 'TypeError':\n",
    "            print('Error en tipo de sector. Los secoteres disponibles son:',Sector.keys())\n",
    "        else:\n",
    "            print(e)\n",
    "    #Faltaria leer los datos de escalados       \n",
    "    if not escalados:\n",
    "        X = escalado_nuevo(np.array(X[1:]),np.array(escalados_1),np.array(escalados_2),metodo)\n",
    "        X = [replace_map['Sector'][Sector]] + list(X)\n",
    "        \n",
    "    filename = 'finalized_model.sav'\n",
    "    loaded_model = pickle.load(open(filename, 'rb'))\n",
    "    output_model = loaded_model.predict([X])\n",
    "    return replace_map['Rating'][int(output_model)]"
   ]
  },
  {
   "cell_type": "code",
   "execution_count": 169,
   "metadata": {},
   "outputs": [
    {
     "data": {
      "text/plain": [
       "'AA-'"
      ]
     },
     "execution_count": 169,
     "metadata": {},
     "output_type": "execute_result"
    }
   ],
   "source": [
    "estimate_rating(True, *['Industrials'] + X[1][1:].tolist())"
   ]
  },
  {
   "cell_type": "markdown",
   "metadata": {},
   "source": [
    "### Inputs reales\n",
    "En la realidad pasariamos los datos sin escalar"
   ]
  },
  {
   "cell_type": "code",
   "execution_count": 92,
   "metadata": {},
   "outputs": [
    {
     "data": {
      "text/plain": [
       "Excel Company ID                    IQ4149300\n",
       "ID                             2018-IQ4149300\n",
       "Company Name                     KOSE:A002380\n",
       "Rating                                     10\n",
       "Sector                                     11\n",
       "EBITDA / Gastos financieros           22.3745\n",
       "DFN / EBITDA                          3.48727\n",
       "Deuda / (Deuda + Equity)             0.277097\n",
       "Current Ratio                        0.941897\n",
       "Quick Ratio                           0.54896\n",
       "Cash Ratio                           0.145974\n",
       "LT Debt-to-equity                   0.0528442\n",
       "Total Debt-to-Equity                 0.383312\n",
       "Debt Ratio                            4.24431\n",
       "Financial Leverage                    1.62689\n",
       "Name: 5398, dtype: object"
      ]
     },
     "execution_count": 92,
     "metadata": {},
     "output_type": "execute_result"
    }
   ],
   "source": [
    "df_ready.iloc[0]"
   ]
  },
  {
   "cell_type": "code",
   "execution_count": 175,
   "metadata": {},
   "outputs": [
    {
     "data": {
      "text/plain": [
       "['Industrials',\n",
       " 22.374497105157584,\n",
       " 3.4872741619921888,\n",
       " 0.2770972296004152,\n",
       " 0.9418969064113264,\n",
       " 0.5489597419617178,\n",
       " 0.14597441172397338,\n",
       " 0.052844150531239434,\n",
       " 0.3833118933093168,\n",
       " 4.24430817790905,\n",
       " 1.6268938034625344]"
      ]
     },
     "execution_count": 175,
     "metadata": {},
     "output_type": "execute_result"
    }
   ],
   "source": [
    "x = np.array(df_ready.iloc[0][4:])\n",
    "x = [float(v) for v in x[1:]]\n",
    "x = ['Industrials'] + list(x)\n",
    "x"
   ]
  },
  {
   "cell_type": "markdown",
   "metadata": {},
   "source": [
    "Primer se escalan y luego se pasan al modelo"
   ]
  },
  {
   "cell_type": "code",
   "execution_count": 161,
   "metadata": {},
   "outputs": [],
   "source": [
    "def escalado_nuevo(X,escalados_1,escalados_2,metodo):\n",
    "    if metodo == 'Normalizacion':\n",
    "        X = (X-escalados_1)/(escalados_2- escalados_1)\n",
    "    elif metodo == 'Estandiracicion':\n",
    "        X = (X - escalados_1) / escalados_2\n",
    "    else:\n",
    "        print('Metodo no valido')\n",
    "        return None\n",
    "    return X"
   ]
  },
  {
   "cell_type": "markdown",
   "metadata": {},
   "source": [
    "Datos desescalados a partir de las variables del modelo"
   ]
  },
  {
   "cell_type": "code",
   "execution_count": 178,
   "metadata": {},
   "outputs": [
    {
     "data": {
      "text/plain": [
       "('AA-', 'BBB')"
      ]
     },
     "execution_count": 178,
     "metadata": {},
     "output_type": "execute_result"
    }
   ],
   "source": [
    "estimate_rating(False,*x),invers_dict_rating[int(y[0])]"
   ]
  },
  {
   "cell_type": "code",
   "execution_count": null,
   "metadata": {},
   "outputs": [],
   "source": []
  },
  {
   "cell_type": "markdown",
   "metadata": {},
   "source": [
    "El último paso sería meter esta funcion en un arcico punto `.py` y guardar en otro archivo los dats para desescalar los datos"
   ]
  },
  {
   "cell_type": "code",
   "execution_count": null,
   "metadata": {},
   "outputs": [],
   "source": []
  }
 ],
 "metadata": {
  "hide_input": false,
  "kernelspec": {
   "display_name": "Python 3",
   "language": "python",
   "name": "python3"
  },
  "language_info": {
   "codemirror_mode": {
    "name": "ipython",
    "version": 3
   },
   "file_extension": ".py",
   "mimetype": "text/x-python",
   "name": "python",
   "nbconvert_exporter": "python",
   "pygments_lexer": "ipython3",
   "version": "3.9.5"
  }
 },
 "nbformat": 4,
 "nbformat_minor": 2
}
