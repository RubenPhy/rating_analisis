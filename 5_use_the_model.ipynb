{
 "cells": [
  {
   "cell_type": "markdown",
   "metadata": {},
   "source": [
    "## Usos de los modelos\n",
    "0) puede que lo predizca tan bien porque las muestras están repetidas, asi que usaremos los nuevos datos para hacer el test real (hacer el una fucion que te haga todo, \n",
    "    1) le pasas las varaibles\n",
    "    2) te calcula las mtricas \n",
    "    3) con el modelo cargado te hace las prediccion y leugo ver los resultados."
   ]
  },
  {
   "cell_type": "markdown",
   "metadata": {},
   "source": [
    "### Importamos los datos"
   ]
  },
  {
   "cell_type": "code",
   "execution_count": 1,
   "metadata": {},
   "outputs": [],
   "source": [
    "# read the data/2024_main_comps.xlsx\n",
    "import pandas as pd\n",
    "from standard_data import *\n",
    "import numpy as np\n",
    "import json\n",
    "from sklearn.metrics import mean_absolute_error,mean_squared_error\n",
    "from joblib import load\n",
    "\n",
    "from sklearn.metrics import confusion_matrix\n",
    "from matplotlib import pyplot as plt\n",
    "import seaborn as sns"
   ]
  },
  {
   "cell_type": "code",
   "execution_count": 57,
   "metadata": {},
   "outputs": [],
   "source": [
    "def preprocesado_df(file):\n",
    "    \"\"\"\n",
    "    Function to read the data\n",
    "    Delete NanN\n",
    "    Compute the main matric\n",
    "    Transform the categorical data\n",
    "    \"\"\"\n",
    "    df_base = pd.read_excel(file, skiprows=3, usecols=\"B:O\")\n",
    "    df = df_base\n",
    "    mask = (df[columns_to_check] != 0) & (df[columns_to_check] != \"NaN\")\n",
    "    df = df[mask.any(axis=1)]\n",
    "    \n",
    "    df = df.copy()\n",
    "    for columnas in columns_to_check:\n",
    "        df[columnas] = pd.to_numeric(df[columnas], errors='coerce')\n",
    "    df = compute_main_ratios(df)\n",
    "\n",
    "    # Delete rows and columns that are not necesarry\n",
    "    dif_of_0 = [\"Total Equity\",\"Current Liabilities\",\"Total Debt\",\"EBITDA\"]\n",
    "    for col_ in dif_of_0:\n",
    "        df = df[df[col_] != 0]\n",
    "    df.dropna(inplace=True)\n",
    "    df = df[var_x_num+['Rating','Sector']]\n",
    "    \n",
    "    # Pasamos las varaibles categoricas a ordinales\n",
    "    df.loc[:,'Rating_group'] = df['Rating'].map(All_rating_order_group)\n",
    "    \n",
    "    df.loc[:,'Sector_ordinal'] = df['Sector'].map(sectores_dic)\n",
    "\n",
    "    with open('dicts_ratings.json', 'r') as file:\n",
    "            dict_ratings = json.load(file)\n",
    "    \n",
    "    df.loc[:,'Rating_ordinal'] = df['Rating'].map(dict_ratings)\n",
    "\n",
    "    with open('dicts_ratings_group.json', 'r') as file:\n",
    "            dict_ratings = json.load(file)\n",
    "    \n",
    "    df.loc[:,'Rating_group_ordinal'] = df['Rating_group'].map(dict_ratings)\n",
    "    \n",
    "    # Solo las variables que necesitamos para el modelo\n",
    "    df = df[['Rating_ordinal','Rating_group_ordinal'] + var_x_num + ['Sector_ordinal']]\n",
    "    return df_base, df\n",
    "\n",
    "file = 'data/2024_main_comps.xlsx'\n",
    "(df_base, df) = preprocesado_df(file)"
   ]
  },
  {
   "cell_type": "code",
   "execution_count": 58,
   "metadata": {},
   "outputs": [
    {
     "data": {
      "text/plain": [
       "Rating_ordinal              897\n",
       "Rating_group_ordinal        897\n",
       "Net Debt to EBITDA            0\n",
       "Debt to Assets                0\n",
       "Current Ratio                 0\n",
       "Quick Ratio                   0\n",
       "Cash ratio                    0\n",
       "Long Term Debt to Equity      0\n",
       "Debt to Equity                0\n",
       "Debt ratio                    0\n",
       "Financial Leverage            0\n",
       "Sector_ordinal                0\n",
       "dtype: int64"
      ]
     },
     "execution_count": 58,
     "metadata": {},
     "output_type": "execute_result"
    }
   ],
   "source": [
    "# count the number of nan in each column\n",
    "df.isna().sum()"
   ]
  },
  {
   "cell_type": "code",
   "execution_count": 59,
   "metadata": {},
   "outputs": [
    {
     "data": {
      "text/plain": [
       "Rating_ordinal              0\n",
       "Rating_group_ordinal        0\n",
       "Net Debt to EBITDA          0\n",
       "Debt to Assets              0\n",
       "Current Ratio               0\n",
       "Quick Ratio                 0\n",
       "Cash ratio                  0\n",
       "Long Term Debt to Equity    0\n",
       "Debt to Equity              0\n",
       "Debt ratio                  0\n",
       "Financial Leverage          0\n",
       "Sector_ordinal              0\n",
       "dtype: int64"
      ]
     },
     "execution_count": 59,
     "metadata": {},
     "output_type": "execute_result"
    }
   ],
   "source": [
    "# filter de df only if the value in the column 'Rating_ordina' is a number\n",
    "df = df[df['Rating_ordinal'].notna()]\n",
    "var_x = var_x_num + ['Sector_ordinal']\n",
    "df.isna().sum()"
   ]
  },
  {
   "cell_type": "code",
   "execution_count": 60,
   "metadata": {},
   "outputs": [
    {
     "data": {
      "text/plain": [
       "Rating_ordinal              0\n",
       "Rating_group_ordinal        0\n",
       "Net Debt to EBITDA          0\n",
       "Debt to Assets              0\n",
       "Current Ratio               0\n",
       "Quick Ratio                 0\n",
       "Cash ratio                  0\n",
       "Long Term Debt to Equity    0\n",
       "Debt to Equity              0\n",
       "Debt ratio                  0\n",
       "Financial Leverage          0\n",
       "Sector_ordinal              0\n",
       "dtype: int64"
      ]
     },
     "execution_count": 60,
     "metadata": {},
     "output_type": "execute_result"
    }
   ],
   "source": [
    "#check if the are inf in the df\n",
    "df.isin([np.inf, -np.inf]).sum()"
   ]
  },
  {
   "cell_type": "markdown",
   "metadata": {},
   "source": [
    "### Ejemplo del trabajo"
   ]
  },
  {
   "cell_type": "code",
   "execution_count": 108,
   "metadata": {},
   "outputs": [
    {
     "data": {
      "text/plain": [
       "{'Energy': 1,\n",
       " 'Materials': 2,\n",
       " 'Industrials': 3,\n",
       " 'Consumer Discretionary': 4,\n",
       " 'Consumer Staples': 5,\n",
       " 'Health Care': 6,\n",
       " 'Financials': 7,\n",
       " 'Information Technology': 8,\n",
       " 'Communication Services': 9,\n",
       " 'Utilities': 10,\n",
       " 'Real Estate': 11}"
      ]
     },
     "execution_count": 108,
     "metadata": {},
     "output_type": "execute_result"
    }
   ],
   "source": [
    "sectores_dic"
   ]
  },
  {
   "cell_type": "code",
   "execution_count": 131,
   "metadata": {},
   "outputs": [
    {
     "data": {
      "text/html": [
       "<div>\n",
       "<style scoped>\n",
       "    .dataframe tbody tr th:only-of-type {\n",
       "        vertical-align: middle;\n",
       "    }\n",
       "\n",
       "    .dataframe tbody tr th {\n",
       "        vertical-align: top;\n",
       "    }\n",
       "\n",
       "    .dataframe thead th {\n",
       "        text-align: right;\n",
       "    }\n",
       "</style>\n",
       "<table border=\"1\" class=\"dataframe\">\n",
       "  <thead>\n",
       "    <tr style=\"text-align: right;\">\n",
       "      <th></th>\n",
       "      <th>0</th>\n",
       "      <th>1</th>\n",
       "      <th>2</th>\n",
       "      <th>3</th>\n",
       "      <th>4</th>\n",
       "      <th>5</th>\n",
       "      <th>6</th>\n",
       "      <th>7</th>\n",
       "    </tr>\n",
       "  </thead>\n",
       "  <tbody>\n",
       "    <tr>\n",
       "      <th>Unnamed: 4</th>\n",
       "      <td>2.664740</td>\n",
       "      <td>0.490753</td>\n",
       "      <td>0.779621</td>\n",
       "      <td>0.761493</td>\n",
       "      <td>0.404312</td>\n",
       "      <td>1.017481</td>\n",
       "      <td>1.251908</td>\n",
       "      <td>2.550996</td>\n",
       "    </tr>\n",
       "    <tr>\n",
       "      <th>Unnamed: 5</th>\n",
       "      <td>2.696961</td>\n",
       "      <td>0.490244</td>\n",
       "      <td>0.745695</td>\n",
       "      <td>0.727566</td>\n",
       "      <td>0.370385</td>\n",
       "      <td>1.017481</td>\n",
       "      <td>1.251908</td>\n",
       "      <td>2.553642</td>\n",
       "    </tr>\n",
       "    <tr>\n",
       "      <th>Unnamed: 6</th>\n",
       "      <td>2.729181</td>\n",
       "      <td>0.489737</td>\n",
       "      <td>0.711768</td>\n",
       "      <td>0.693639</td>\n",
       "      <td>0.336458</td>\n",
       "      <td>1.017481</td>\n",
       "      <td>1.251908</td>\n",
       "      <td>2.556288</td>\n",
       "    </tr>\n",
       "    <tr>\n",
       "      <th>Unnamed: 7</th>\n",
       "      <td>2.761402</td>\n",
       "      <td>0.489230</td>\n",
       "      <td>0.677841</td>\n",
       "      <td>0.659713</td>\n",
       "      <td>0.302532</td>\n",
       "      <td>1.017481</td>\n",
       "      <td>1.251908</td>\n",
       "      <td>2.558935</td>\n",
       "    </tr>\n",
       "    <tr>\n",
       "      <th>Unnamed: 8</th>\n",
       "      <td>2.793622</td>\n",
       "      <td>0.488725</td>\n",
       "      <td>0.643914</td>\n",
       "      <td>0.625786</td>\n",
       "      <td>0.268605</td>\n",
       "      <td>1.017481</td>\n",
       "      <td>1.251908</td>\n",
       "      <td>2.561581</td>\n",
       "    </tr>\n",
       "    <tr>\n",
       "      <th>...</th>\n",
       "      <td>...</td>\n",
       "      <td>...</td>\n",
       "      <td>...</td>\n",
       "      <td>...</td>\n",
       "      <td>...</td>\n",
       "      <td>...</td>\n",
       "      <td>...</td>\n",
       "      <td>...</td>\n",
       "    </tr>\n",
       "    <tr>\n",
       "      <th>Unnamed: 80</th>\n",
       "      <td>2.793622</td>\n",
       "      <td>0.527752</td>\n",
       "      <td>1.070521</td>\n",
       "      <td>1.054168</td>\n",
       "      <td>0.731967</td>\n",
       "      <td>1.186836</td>\n",
       "      <td>1.463601</td>\n",
       "      <td>2.773274</td>\n",
       "    </tr>\n",
       "    <tr>\n",
       "      <th>Unnamed: 81</th>\n",
       "      <td>2.825842</td>\n",
       "      <td>0.529492</td>\n",
       "      <td>1.064008</td>\n",
       "      <td>1.047754</td>\n",
       "      <td>0.727514</td>\n",
       "      <td>1.197420</td>\n",
       "      <td>1.476832</td>\n",
       "      <td>2.789151</td>\n",
       "    </tr>\n",
       "    <tr>\n",
       "      <th>Unnamed: 82</th>\n",
       "      <td>2.858063</td>\n",
       "      <td>0.531211</td>\n",
       "      <td>1.057574</td>\n",
       "      <td>1.041419</td>\n",
       "      <td>0.723114</td>\n",
       "      <td>1.208005</td>\n",
       "      <td>1.490063</td>\n",
       "      <td>2.805028</td>\n",
       "    </tr>\n",
       "    <tr>\n",
       "      <th>Unnamed: 83</th>\n",
       "      <td>2.890283</td>\n",
       "      <td>0.532912</td>\n",
       "      <td>1.051218</td>\n",
       "      <td>1.035159</td>\n",
       "      <td>0.718768</td>\n",
       "      <td>1.218590</td>\n",
       "      <td>1.503294</td>\n",
       "      <td>2.820905</td>\n",
       "    </tr>\n",
       "    <tr>\n",
       "      <th>Unnamed: 84</th>\n",
       "      <td>2.922504</td>\n",
       "      <td>0.534593</td>\n",
       "      <td>1.044937</td>\n",
       "      <td>1.028975</td>\n",
       "      <td>0.714474</td>\n",
       "      <td>1.229174</td>\n",
       "      <td>1.516524</td>\n",
       "      <td>2.836782</td>\n",
       "    </tr>\n",
       "  </tbody>\n",
       "</table>\n",
       "<p>81 rows × 8 columns</p>\n",
       "</div>"
      ],
      "text/plain": [
       "                    0         1         2         3         4         5  \\\n",
       "Unnamed: 4   2.664740  0.490753  0.779621  0.761493  0.404312  1.017481   \n",
       "Unnamed: 5   2.696961  0.490244  0.745695  0.727566  0.370385  1.017481   \n",
       "Unnamed: 6   2.729181  0.489737  0.711768  0.693639  0.336458  1.017481   \n",
       "Unnamed: 7   2.761402  0.489230  0.677841  0.659713  0.302532  1.017481   \n",
       "Unnamed: 8   2.793622  0.488725  0.643914  0.625786  0.268605  1.017481   \n",
       "...               ...       ...       ...       ...       ...       ...   \n",
       "Unnamed: 80  2.793622  0.527752  1.070521  1.054168  0.731967  1.186836   \n",
       "Unnamed: 81  2.825842  0.529492  1.064008  1.047754  0.727514  1.197420   \n",
       "Unnamed: 82  2.858063  0.531211  1.057574  1.041419  0.723114  1.208005   \n",
       "Unnamed: 83  2.890283  0.532912  1.051218  1.035159  0.718768  1.218590   \n",
       "Unnamed: 84  2.922504  0.534593  1.044937  1.028975  0.714474  1.229174   \n",
       "\n",
       "                    6         7  \n",
       "Unnamed: 4   1.251908  2.550996  \n",
       "Unnamed: 5   1.251908  2.553642  \n",
       "Unnamed: 6   1.251908  2.556288  \n",
       "Unnamed: 7   1.251908  2.558935  \n",
       "Unnamed: 8   1.251908  2.561581  \n",
       "...               ...       ...  \n",
       "Unnamed: 80  1.463601  2.773274  \n",
       "Unnamed: 81  1.476832  2.789151  \n",
       "Unnamed: 82  1.490063  2.805028  \n",
       "Unnamed: 83  1.503294  2.820905  \n",
       "Unnamed: 84  1.516524  2.836782  \n",
       "\n",
       "[81 rows x 8 columns]"
      ]
     },
     "execution_count": 131,
     "metadata": {},
     "output_type": "execute_result"
    }
   ],
   "source": [
    "# read the Datos Analisis rating.xlsx from column E to CG and from row 16 to 23, no columns\n",
    "df_analisis = pd.read_excel('Datos Analisis rating.xlsx', usecols=\"E:CG\", skiprows=14, nrows=8)\n",
    "df_analisis = df_analisis.transpose()\n",
    "df_analisis"
   ]
  },
  {
   "cell_type": "code",
   "execution_count": 132,
   "metadata": {},
   "outputs": [
    {
     "data": {
      "text/plain": [
       "array([[2.05862979],\n",
       "       [0.48903221],\n",
       "       [1.27040459],\n",
       "       [1.2558121 ],\n",
       "       [0.88795856],\n",
       "       [0.90151285],\n",
       "       [1.13593962],\n",
       "       [2.3228319 ]])"
      ]
     },
     "execution_count": 132,
     "metadata": {},
     "output_type": "execute_result"
    }
   ],
   "source": [
    "# use the cells C6 to C13 as columns names\n",
    "df_ratios_current = pd.read_excel('Datos Analisis rating.xlsx', usecols=\"E\", skiprows=4, nrows=8)\n",
    "df_ratios_current.values"
   ]
  },
  {
   "cell_type": "code",
   "execution_count": 133,
   "metadata": {},
   "outputs": [
    {
     "data": {
      "text/html": [
       "<div>\n",
       "<style scoped>\n",
       "    .dataframe tbody tr th:only-of-type {\n",
       "        vertical-align: middle;\n",
       "    }\n",
       "\n",
       "    .dataframe tbody tr th {\n",
       "        vertical-align: top;\n",
       "    }\n",
       "\n",
       "    .dataframe thead th {\n",
       "        text-align: right;\n",
       "    }\n",
       "</style>\n",
       "<table border=\"1\" class=\"dataframe\">\n",
       "  <thead>\n",
       "    <tr style=\"text-align: right;\">\n",
       "      <th></th>\n",
       "      <th>0</th>\n",
       "      <th>1</th>\n",
       "      <th>2</th>\n",
       "      <th>3</th>\n",
       "      <th>4</th>\n",
       "      <th>5</th>\n",
       "      <th>6</th>\n",
       "      <th>7</th>\n",
       "    </tr>\n",
       "  </thead>\n",
       "  <tbody>\n",
       "    <tr>\n",
       "      <th>Unnamed: 4</th>\n",
       "      <td>2.664740</td>\n",
       "      <td>0.490753</td>\n",
       "      <td>0.779621</td>\n",
       "      <td>0.761493</td>\n",
       "      <td>0.404312</td>\n",
       "      <td>1.017481</td>\n",
       "      <td>1.251908</td>\n",
       "      <td>2.550996</td>\n",
       "    </tr>\n",
       "    <tr>\n",
       "      <th>Unnamed: 5</th>\n",
       "      <td>2.696961</td>\n",
       "      <td>0.490244</td>\n",
       "      <td>0.745695</td>\n",
       "      <td>0.727566</td>\n",
       "      <td>0.370385</td>\n",
       "      <td>1.017481</td>\n",
       "      <td>1.251908</td>\n",
       "      <td>2.553642</td>\n",
       "    </tr>\n",
       "    <tr>\n",
       "      <th>Unnamed: 6</th>\n",
       "      <td>2.729181</td>\n",
       "      <td>0.489737</td>\n",
       "      <td>0.711768</td>\n",
       "      <td>0.693639</td>\n",
       "      <td>0.336458</td>\n",
       "      <td>1.017481</td>\n",
       "      <td>1.251908</td>\n",
       "      <td>2.556288</td>\n",
       "    </tr>\n",
       "    <tr>\n",
       "      <th>Unnamed: 7</th>\n",
       "      <td>2.761402</td>\n",
       "      <td>0.489230</td>\n",
       "      <td>0.677841</td>\n",
       "      <td>0.659713</td>\n",
       "      <td>0.302532</td>\n",
       "      <td>1.017481</td>\n",
       "      <td>1.251908</td>\n",
       "      <td>2.558935</td>\n",
       "    </tr>\n",
       "    <tr>\n",
       "      <th>Unnamed: 8</th>\n",
       "      <td>2.793622</td>\n",
       "      <td>0.488725</td>\n",
       "      <td>0.643914</td>\n",
       "      <td>0.625786</td>\n",
       "      <td>0.268605</td>\n",
       "      <td>1.017481</td>\n",
       "      <td>1.251908</td>\n",
       "      <td>2.561581</td>\n",
       "    </tr>\n",
       "    <tr>\n",
       "      <th>...</th>\n",
       "      <td>...</td>\n",
       "      <td>...</td>\n",
       "      <td>...</td>\n",
       "      <td>...</td>\n",
       "      <td>...</td>\n",
       "      <td>...</td>\n",
       "      <td>...</td>\n",
       "      <td>...</td>\n",
       "    </tr>\n",
       "    <tr>\n",
       "      <th>Unnamed: 81</th>\n",
       "      <td>2.825842</td>\n",
       "      <td>0.529492</td>\n",
       "      <td>1.064008</td>\n",
       "      <td>1.047754</td>\n",
       "      <td>0.727514</td>\n",
       "      <td>1.197420</td>\n",
       "      <td>1.476832</td>\n",
       "      <td>2.789151</td>\n",
       "    </tr>\n",
       "    <tr>\n",
       "      <th>Unnamed: 82</th>\n",
       "      <td>2.858063</td>\n",
       "      <td>0.531211</td>\n",
       "      <td>1.057574</td>\n",
       "      <td>1.041419</td>\n",
       "      <td>0.723114</td>\n",
       "      <td>1.208005</td>\n",
       "      <td>1.490063</td>\n",
       "      <td>2.805028</td>\n",
       "    </tr>\n",
       "    <tr>\n",
       "      <th>Unnamed: 83</th>\n",
       "      <td>2.890283</td>\n",
       "      <td>0.532912</td>\n",
       "      <td>1.051218</td>\n",
       "      <td>1.035159</td>\n",
       "      <td>0.718768</td>\n",
       "      <td>1.218590</td>\n",
       "      <td>1.503294</td>\n",
       "      <td>2.820905</td>\n",
       "    </tr>\n",
       "    <tr>\n",
       "      <th>Unnamed: 84</th>\n",
       "      <td>2.922504</td>\n",
       "      <td>0.534593</td>\n",
       "      <td>1.044937</td>\n",
       "      <td>1.028975</td>\n",
       "      <td>0.714474</td>\n",
       "      <td>1.229174</td>\n",
       "      <td>1.516524</td>\n",
       "      <td>2.836782</td>\n",
       "    </tr>\n",
       "    <tr>\n",
       "      <th>current</th>\n",
       "      <td>2.058630</td>\n",
       "      <td>0.489032</td>\n",
       "      <td>1.270405</td>\n",
       "      <td>1.255812</td>\n",
       "      <td>0.887959</td>\n",
       "      <td>0.901513</td>\n",
       "      <td>1.135940</td>\n",
       "      <td>2.322832</td>\n",
       "    </tr>\n",
       "  </tbody>\n",
       "</table>\n",
       "<p>82 rows × 8 columns</p>\n",
       "</div>"
      ],
      "text/plain": [
       "                    0         1         2         3         4         5  \\\n",
       "Unnamed: 4   2.664740  0.490753  0.779621  0.761493  0.404312  1.017481   \n",
       "Unnamed: 5   2.696961  0.490244  0.745695  0.727566  0.370385  1.017481   \n",
       "Unnamed: 6   2.729181  0.489737  0.711768  0.693639  0.336458  1.017481   \n",
       "Unnamed: 7   2.761402  0.489230  0.677841  0.659713  0.302532  1.017481   \n",
       "Unnamed: 8   2.793622  0.488725  0.643914  0.625786  0.268605  1.017481   \n",
       "...               ...       ...       ...       ...       ...       ...   \n",
       "Unnamed: 81  2.825842  0.529492  1.064008  1.047754  0.727514  1.197420   \n",
       "Unnamed: 82  2.858063  0.531211  1.057574  1.041419  0.723114  1.208005   \n",
       "Unnamed: 83  2.890283  0.532912  1.051218  1.035159  0.718768  1.218590   \n",
       "Unnamed: 84  2.922504  0.534593  1.044937  1.028975  0.714474  1.229174   \n",
       "current      2.058630  0.489032  1.270405  1.255812  0.887959  0.901513   \n",
       "\n",
       "                    6         7  \n",
       "Unnamed: 4   1.251908  2.550996  \n",
       "Unnamed: 5   1.251908  2.553642  \n",
       "Unnamed: 6   1.251908  2.556288  \n",
       "Unnamed: 7   1.251908  2.558935  \n",
       "Unnamed: 8   1.251908  2.561581  \n",
       "...               ...       ...  \n",
       "Unnamed: 81  1.476832  2.789151  \n",
       "Unnamed: 82  1.490063  2.805028  \n",
       "Unnamed: 83  1.503294  2.820905  \n",
       "Unnamed: 84  1.516524  2.836782  \n",
       "current      1.135940  2.322832  \n",
       "\n",
       "[82 rows x 8 columns]"
      ]
     },
     "execution_count": 133,
     "metadata": {},
     "output_type": "execute_result"
    }
   ],
   "source": [
    "# add the to the last row of the df df_analist the values in df_ratios_current\n",
    "df_analisis.loc['current'] = {i:x for i,x in zip(df_analisis.columns, df_ratios_current.values.flatten())}\n",
    "df_analisis"
   ]
  },
  {
   "cell_type": "code",
   "execution_count": 134,
   "metadata": {},
   "outputs": [
    {
     "data": {
      "text/plain": [
       "array(['Net debt to EBITDA', 'Debt to Assets', 'Current Ratio',\n",
       "       'Quick Ratio', 'Cash Ratio', 'Long term debt to Equity',\n",
       "       'Debt to Equity', 'Financial leverage'], dtype=object)"
      ]
     },
     "execution_count": 134,
     "metadata": {},
     "output_type": "execute_result"
    }
   ],
   "source": [
    "# use the cells C6 to C13 as columns names\n",
    "df_ratios = pd.read_excel('Datos Analisis rating.xlsx', usecols=\"C\", skiprows=4, nrows=8)\n",
    "df_ratios.values.flatten()"
   ]
  },
  {
   "cell_type": "code",
   "execution_count": 135,
   "metadata": {},
   "outputs": [
    {
     "data": {
      "text/plain": [
       "82"
      ]
     },
     "execution_count": 135,
     "metadata": {},
     "output_type": "execute_result"
    }
   ],
   "source": [
    "# make a double loop from 1200000 to 2000000 jumping 100000 and from 0 to 1 jumping 0.125\n",
    "# and create a list of strings with the format \"1200000_0.0\"\n",
    "list_ = []\n",
    "for i in range(1_200_000,2_100_000,100_000):\n",
    "    for j in np.arange(0,1.125,0.125):\n",
    "        list_.append(str(i)+'_'+str(j))\n",
    "list_.append('current')\n",
    "len(list_)"
   ]
  },
  {
   "cell_type": "code",
   "execution_count": 136,
   "metadata": {},
   "outputs": [
    {
     "name": "stdout",
     "output_type": "stream",
     "text": [
      "(82, 8)\n"
     ]
    },
    {
     "data": {
      "text/html": [
       "<div>\n",
       "<style scoped>\n",
       "    .dataframe tbody tr th:only-of-type {\n",
       "        vertical-align: middle;\n",
       "    }\n",
       "\n",
       "    .dataframe tbody tr th {\n",
       "        vertical-align: top;\n",
       "    }\n",
       "\n",
       "    .dataframe thead th {\n",
       "        text-align: right;\n",
       "    }\n",
       "</style>\n",
       "<table border=\"1\" class=\"dataframe\">\n",
       "  <thead>\n",
       "    <tr style=\"text-align: right;\">\n",
       "      <th></th>\n",
       "      <th>Net debt to EBITDA</th>\n",
       "      <th>Debt to Assets</th>\n",
       "      <th>Current Ratio</th>\n",
       "      <th>Quick Ratio</th>\n",
       "      <th>Cash Ratio</th>\n",
       "      <th>Long term debt to Equity</th>\n",
       "      <th>Debt to Equity</th>\n",
       "      <th>Financial leverage</th>\n",
       "    </tr>\n",
       "  </thead>\n",
       "  <tbody>\n",
       "    <tr>\n",
       "      <th>1200000_0.0</th>\n",
       "      <td>2.664740</td>\n",
       "      <td>0.490753</td>\n",
       "      <td>0.779621</td>\n",
       "      <td>0.761493</td>\n",
       "      <td>0.404312</td>\n",
       "      <td>1.017481</td>\n",
       "      <td>1.251908</td>\n",
       "      <td>2.550996</td>\n",
       "    </tr>\n",
       "    <tr>\n",
       "      <th>1200000_0.125</th>\n",
       "      <td>2.696961</td>\n",
       "      <td>0.490244</td>\n",
       "      <td>0.745695</td>\n",
       "      <td>0.727566</td>\n",
       "      <td>0.370385</td>\n",
       "      <td>1.017481</td>\n",
       "      <td>1.251908</td>\n",
       "      <td>2.553642</td>\n",
       "    </tr>\n",
       "    <tr>\n",
       "      <th>1200000_0.25</th>\n",
       "      <td>2.729181</td>\n",
       "      <td>0.489737</td>\n",
       "      <td>0.711768</td>\n",
       "      <td>0.693639</td>\n",
       "      <td>0.336458</td>\n",
       "      <td>1.017481</td>\n",
       "      <td>1.251908</td>\n",
       "      <td>2.556288</td>\n",
       "    </tr>\n",
       "    <tr>\n",
       "      <th>1200000_0.375</th>\n",
       "      <td>2.761402</td>\n",
       "      <td>0.489230</td>\n",
       "      <td>0.677841</td>\n",
       "      <td>0.659713</td>\n",
       "      <td>0.302532</td>\n",
       "      <td>1.017481</td>\n",
       "      <td>1.251908</td>\n",
       "      <td>2.558935</td>\n",
       "    </tr>\n",
       "    <tr>\n",
       "      <th>1200000_0.5</th>\n",
       "      <td>2.793622</td>\n",
       "      <td>0.488725</td>\n",
       "      <td>0.643914</td>\n",
       "      <td>0.625786</td>\n",
       "      <td>0.268605</td>\n",
       "      <td>1.017481</td>\n",
       "      <td>1.251908</td>\n",
       "      <td>2.561581</td>\n",
       "    </tr>\n",
       "  </tbody>\n",
       "</table>\n",
       "</div>"
      ],
      "text/plain": [
       "               Net debt to EBITDA  Debt to Assets  Current Ratio  Quick Ratio  \\\n",
       "1200000_0.0              2.664740        0.490753       0.779621     0.761493   \n",
       "1200000_0.125            2.696961        0.490244       0.745695     0.727566   \n",
       "1200000_0.25             2.729181        0.489737       0.711768     0.693639   \n",
       "1200000_0.375            2.761402        0.489230       0.677841     0.659713   \n",
       "1200000_0.5              2.793622        0.488725       0.643914     0.625786   \n",
       "\n",
       "               Cash Ratio  Long term debt to Equity  Debt to Equity  \\\n",
       "1200000_0.0      0.404312                  1.017481        1.251908   \n",
       "1200000_0.125    0.370385                  1.017481        1.251908   \n",
       "1200000_0.25     0.336458                  1.017481        1.251908   \n",
       "1200000_0.375    0.302532                  1.017481        1.251908   \n",
       "1200000_0.5      0.268605                  1.017481        1.251908   \n",
       "\n",
       "               Financial leverage  \n",
       "1200000_0.0              2.550996  \n",
       "1200000_0.125            2.553642  \n",
       "1200000_0.25             2.556288  \n",
       "1200000_0.375            2.558935  \n",
       "1200000_0.5              2.561581  "
      ]
     },
     "execution_count": 136,
     "metadata": {},
     "output_type": "execute_result"
    }
   ],
   "source": [
    "# Rename the columns of df_analisis with the values in df_ratios\n",
    "df_analisis.columns = df_ratios.values.flatten()\n",
    "print(df_analisis.shape)\n",
    "# rename the index of df_analisis with the list_\n",
    "df_analisis.index = list_\n",
    "df_analisis.head()"
   ]
  },
  {
   "cell_type": "code",
   "execution_count": 137,
   "metadata": {},
   "outputs": [
    {
     "data": {
      "text/html": [
       "<div>\n",
       "<style scoped>\n",
       "    .dataframe tbody tr th:only-of-type {\n",
       "        vertical-align: middle;\n",
       "    }\n",
       "\n",
       "    .dataframe tbody tr th {\n",
       "        vertical-align: top;\n",
       "    }\n",
       "\n",
       "    .dataframe thead th {\n",
       "        text-align: right;\n",
       "    }\n",
       "</style>\n",
       "<table border=\"1\" class=\"dataframe\">\n",
       "  <thead>\n",
       "    <tr style=\"text-align: right;\">\n",
       "      <th></th>\n",
       "      <th>Net debt to EBITDA</th>\n",
       "      <th>Debt to Assets</th>\n",
       "      <th>Current Ratio</th>\n",
       "      <th>Quick Ratio</th>\n",
       "      <th>Cash Ratio</th>\n",
       "      <th>Long term debt to Equity</th>\n",
       "      <th>Debt to Equity</th>\n",
       "      <th>Financial leverage</th>\n",
       "      <th>Sector_ordinal</th>\n",
       "      <th>Debt ratio</th>\n",
       "    </tr>\n",
       "  </thead>\n",
       "  <tbody>\n",
       "    <tr>\n",
       "      <th>1200000_0.0</th>\n",
       "      <td>2.664740</td>\n",
       "      <td>0.490753</td>\n",
       "      <td>0.779621</td>\n",
       "      <td>0.761493</td>\n",
       "      <td>0.404312</td>\n",
       "      <td>1.017481</td>\n",
       "      <td>1.251908</td>\n",
       "      <td>2.550996</td>\n",
       "      <td>3</td>\n",
       "      <td>2.037686</td>\n",
       "    </tr>\n",
       "    <tr>\n",
       "      <th>1200000_0.125</th>\n",
       "      <td>2.696961</td>\n",
       "      <td>0.490244</td>\n",
       "      <td>0.745695</td>\n",
       "      <td>0.727566</td>\n",
       "      <td>0.370385</td>\n",
       "      <td>1.017481</td>\n",
       "      <td>1.251908</td>\n",
       "      <td>2.553642</td>\n",
       "      <td>3</td>\n",
       "      <td>2.039800</td>\n",
       "    </tr>\n",
       "    <tr>\n",
       "      <th>1200000_0.25</th>\n",
       "      <td>2.729181</td>\n",
       "      <td>0.489737</td>\n",
       "      <td>0.711768</td>\n",
       "      <td>0.693639</td>\n",
       "      <td>0.336458</td>\n",
       "      <td>1.017481</td>\n",
       "      <td>1.251908</td>\n",
       "      <td>2.556288</td>\n",
       "      <td>3</td>\n",
       "      <td>2.041914</td>\n",
       "    </tr>\n",
       "    <tr>\n",
       "      <th>1200000_0.375</th>\n",
       "      <td>2.761402</td>\n",
       "      <td>0.489230</td>\n",
       "      <td>0.677841</td>\n",
       "      <td>0.659713</td>\n",
       "      <td>0.302532</td>\n",
       "      <td>1.017481</td>\n",
       "      <td>1.251908</td>\n",
       "      <td>2.558935</td>\n",
       "      <td>3</td>\n",
       "      <td>2.044028</td>\n",
       "    </tr>\n",
       "    <tr>\n",
       "      <th>1200000_0.5</th>\n",
       "      <td>2.793622</td>\n",
       "      <td>0.488725</td>\n",
       "      <td>0.643914</td>\n",
       "      <td>0.625786</td>\n",
       "      <td>0.268605</td>\n",
       "      <td>1.017481</td>\n",
       "      <td>1.251908</td>\n",
       "      <td>2.561581</td>\n",
       "      <td>3</td>\n",
       "      <td>2.046141</td>\n",
       "    </tr>\n",
       "  </tbody>\n",
       "</table>\n",
       "</div>"
      ],
      "text/plain": [
       "               Net debt to EBITDA  Debt to Assets  Current Ratio  Quick Ratio  \\\n",
       "1200000_0.0              2.664740        0.490753       0.779621     0.761493   \n",
       "1200000_0.125            2.696961        0.490244       0.745695     0.727566   \n",
       "1200000_0.25             2.729181        0.489737       0.711768     0.693639   \n",
       "1200000_0.375            2.761402        0.489230       0.677841     0.659713   \n",
       "1200000_0.5              2.793622        0.488725       0.643914     0.625786   \n",
       "\n",
       "               Cash Ratio  Long term debt to Equity  Debt to Equity  \\\n",
       "1200000_0.0      0.404312                  1.017481        1.251908   \n",
       "1200000_0.125    0.370385                  1.017481        1.251908   \n",
       "1200000_0.25     0.336458                  1.017481        1.251908   \n",
       "1200000_0.375    0.302532                  1.017481        1.251908   \n",
       "1200000_0.5      0.268605                  1.017481        1.251908   \n",
       "\n",
       "               Financial leverage  Sector_ordinal  Debt ratio  \n",
       "1200000_0.0              2.550996               3    2.037686  \n",
       "1200000_0.125            2.553642               3    2.039800  \n",
       "1200000_0.25             2.556288               3    2.041914  \n",
       "1200000_0.375            2.558935               3    2.044028  \n",
       "1200000_0.5              2.561581               3    2.046141  "
      ]
     },
     "execution_count": 137,
     "metadata": {},
     "output_type": "execute_result"
    }
   ],
   "source": [
    "df_analisis['Sector_ordinal'] = sectores_dic['Industrials'] # ya que se parece más al industrial\n",
    "df_analisis['Debt ratio'] = df_analisis['Financial leverage']/df_analisis['Debt to Equity']\n",
    "df_analisis.head()"
   ]
  },
  {
   "cell_type": "markdown",
   "metadata": {},
   "source": [
    "Comprobamos que tenemos todas las variales:"
   ]
  },
  {
   "cell_type": "code",
   "execution_count": 138,
   "metadata": {},
   "outputs": [],
   "source": [
    "# rename some the columns with Net Debt to EBITDA', 'Cash ratio', 'Long Term Debt to Equity', 'Financial Leverage\n",
    "df_analisis.rename(columns={'Net debt to EBITDA':'Net Debt to EBITDA',\n",
    "                            'Cash Ratio':'Cash ratio',\n",
    "                            'Long term debt to Equity':'Long Term Debt to Equity',\n",
    "                            'Financial leverage':'Financial Leverage'}, inplace=True)"
   ]
  },
  {
   "cell_type": "code",
   "execution_count": 139,
   "metadata": {},
   "outputs": [],
   "source": [
    "variables = ['Net Debt to EBITDA',\n",
    "            'Debt to Assets',\n",
    "            'Current Ratio',\n",
    "            'Quick Ratio',\n",
    "            'Cash ratio',\n",
    "            'Long Term Debt to Equity',\n",
    "            'Debt to Equity',\n",
    "            'Debt ratio',\n",
    "            'Financial Leverage',\n",
    "            'Sector_ordinal']"
   ]
  },
  {
   "cell_type": "code",
   "execution_count": 140,
   "metadata": {},
   "outputs": [
    {
     "data": {
      "text/plain": [
       "(set(), set())"
      ]
     },
     "execution_count": 140,
     "metadata": {},
     "output_type": "execute_result"
    }
   ],
   "source": [
    "set(df_analisis.columns)- set(variables),set(variables)-set(df_analisis.columns)"
   ]
  },
  {
   "cell_type": "code",
   "execution_count": 141,
   "metadata": {},
   "outputs": [],
   "source": [
    "df = df_analisis"
   ]
  },
  {
   "cell_type": "markdown",
   "metadata": {},
   "source": [
    "### Modelo logistico"
   ]
  },
  {
   "cell_type": "code",
   "execution_count": 19,
   "metadata": {},
   "outputs": [
    {
     "name": "stdout",
     "output_type": "stream",
     "text": [
      "(753, 12)\n"
     ]
    }
   ],
   "source": [
    "X = df[var_x] \n",
    "y = np.array(df['Rating_group_ordinal']) \n",
    "print(df.shape)"
   ]
  },
  {
   "cell_type": "code",
   "execution_count": 20,
   "metadata": {},
   "outputs": [],
   "source": [
    "# Realizar predicciones sobre el conjunto de prueba\n",
    "model = load('models/logistic_model_rating_group.sav')\n",
    "y_pred = model.predict(X)"
   ]
  },
  {
   "cell_type": "code",
   "execution_count": 21,
   "metadata": {},
   "outputs": [
    {
     "name": "stdout",
     "output_type": "stream",
     "text": [
      "Error Cuadrático Medio (MSE): 6.411686586985391\n",
      "Error Absoluto Medio (MEA): 2.361221779548473\n"
     ]
    }
   ],
   "source": [
    "mse = mean_squared_error(y, y_pred)\n",
    "print(f\"Error Cuadrático Medio (MSE): {mse}\")\n",
    "\n",
    "mae = mean_absolute_error(y, y_pred)\n",
    "print(f\"Error Absoluto Medio (MEA): {mae}\")"
   ]
  },
  {
   "cell_type": "code",
   "execution_count": 22,
   "metadata": {},
   "outputs": [
    {
     "name": "stdout",
     "output_type": "stream",
     "text": [
      "Rating in the list {'BB', 'B', 'BBB', 'CC', 'AA', 'AAA', 'CCC', 'A'}\n",
      "Rating in our data {'BB', 'B', 'BBB', 'AA', 'AAA', 'CCC', 'A'}\n",
      "Ratings not in our list {'CC'}\n"
     ]
    }
   ],
   "source": [
    "ratings_ = rating_order_group.copy()\n",
    "ratings_.remove('D')\n",
    "print('Rating in the list',set(ratings_))\n",
    "\n",
    "with open('dicts_ratings_group.json', 'r') as file:\n",
    "    dict_ratings = json.load(file)\n",
    "# invert the keys and values of the dit\n",
    "dict_ratings = {v: k for k, v in dict_ratings.items()}\n",
    "our_ratings = {dict_ratings[x] for x in set(df['Rating_group_ordinal'])}\n",
    "print('Rating in our data',our_ratings)\n",
    "\n",
    "print('Ratings not in our list',set(ratings_)-set(our_ratings))"
   ]
  },
  {
   "cell_type": "code",
   "execution_count": 23,
   "metadata": {},
   "outputs": [
    {
     "data": {
      "text/plain": [
       "{0, 1, 2, 3, 4, 5, 6, 7}"
      ]
     },
     "execution_count": 23,
     "metadata": {},
     "output_type": "execute_result"
    }
   ],
   "source": [
    "set(y_pred)"
   ]
  },
  {
   "cell_type": "code",
   "execution_count": 24,
   "metadata": {},
   "outputs": [
    {
     "name": "stdout",
     "output_type": "stream",
     "text": [
      "Number of times it predict the exact number : 3.05 %\n",
      "Number of times it predict the exact number or 1 different: 15.27 %\n",
      "Number of times it predict the exact number or 2 different: 53.39 %\n"
     ]
    }
   ],
   "source": [
    "#count the number of times the prediction value is equal to the real value over the total number of predictions\n",
    "print('Number of times it predict the exact number :',np.round(np.sum(y_pred == y) / len(y),4)*100,'%')\n",
    "\n",
    "# count the number of times the prediction value is equal o have only 1 different to the real value over the total number of predictions\n",
    "print('Number of times it predict the exact number or 1 different:',np.round(np.sum(abs(y_pred - y) <= 1) / len(y),4)*100,'%')\n",
    "\n",
    "# count the number of times the prediction value is equal o have only 1 different to the real value over the total number of predictions\n",
    "print('Number of times it predict the exact number or 2 different:',np.round(np.sum(abs(y_pred - y) <= 2) / len(y),4)*100,'%')"
   ]
  },
  {
   "cell_type": "code",
   "execution_count": 25,
   "metadata": {},
   "outputs": [
    {
     "data": {
      "image/png": "[encoded data removed]",
      "text/plain": [
       "<Figure size 640x480 with 2 Axes>"
      ]
     },
     "metadata": {},
     "output_type": "display_data"
    }
   ],
   "source": [
    "# plot the  Confusion Matrix for the companies in the main world index\n",
    "cm = confusion_matrix(y, y_pred)\n",
    "sns.heatmap(cm,  fmt=\"d\")\n",
    "# usa All_rating_order_group como ticks en el eje x e y\n",
    "ticks = np.arange(len(ratings_))+0.5\n",
    "plt.xticks(ticks=ticks, labels=ratings_,rotation=45,fontname='Times New Roman')\n",
    "plt.yticks(ticks=ticks, labels=ratings_,rotation=0,fontname='Times New Roman')\n",
    "plt.title('Modelo de Logistico',fontname='Times New Roman')\n",
    "plt.xlabel('Predicted')\n",
    "plt.ylabel('Actual')\n",
    "plt.savefig('plots/confusion_matrix_logistic_new_data.png')\n",
    "plt.show()"
   ]
  },
  {
   "cell_type": "markdown",
   "metadata": {},
   "source": [
    "### Modelo regresión"
   ]
  },
  {
   "cell_type": "code",
   "execution_count": 35,
   "metadata": {},
   "outputs": [],
   "source": [
    "# Realizar predicciones sobre el conjunto de prueba\n",
    "model = load('models/model_polyreg_rating_group.sav')\n",
    "y_pred = model.predict(X)\n",
    "y_pred_rounded = np.round(y_pred, decimals=0)\n",
    "y_pred_rounded= np.clip(y_pred_rounded, 0, 7)"
   ]
  },
  {
   "cell_type": "code",
   "execution_count": 36,
   "metadata": {},
   "outputs": [
    {
     "name": "stdout",
     "output_type": "stream",
     "text": [
      "Error Cuadrático Medio (MSE): 4.8326693227091635\n",
      "Error Absoluto Medio (MEA): 1.6241699867197874\n"
     ]
    }
   ],
   "source": [
    "mse = mean_squared_error(y, y_pred_rounded)\n",
    "print(f\"Error Cuadrático Medio (MSE): {mse}\")\n",
    "\n",
    "mae = mean_absolute_error(y, y_pred_rounded)\n",
    "print(f\"Error Absoluto Medio (MEA): {mae}\")"
   ]
  },
  {
   "cell_type": "code",
   "execution_count": 50,
   "metadata": {},
   "outputs": [
    {
     "name": "stdout",
     "output_type": "stream",
     "text": [
      "Rating in the list {'BB', 'B', 'BBB', 'CC', 'AA', 'AAA', 'CCC', 'A'}\n",
      "Rating in our data {'A+', 'AA-', 'AA', 'AAA', 'AA+', 'A-', 'A'}\n",
      "Ratings not in our list {'B', 'BBB', 'CC', 'BB', 'CCC'}\n"
     ]
    }
   ],
   "source": [
    "ratings_ = rating_order_group.copy()\n",
    "ratings_.remove('D')\n",
    "print('Rating in the list',set(ratings_))\n",
    "\n",
    "with open('dicts_ratings.json', 'r') as file:\n",
    "    dict_ratings = json.load(file)\n",
    "# invert the keys and values of the dit\n",
    "dict_ratings = {v: k for k, v in dict_ratings.items()}\n",
    "our_ratings = {dict_ratings[x] for x in set(df['Rating_group_ordinal'])}\n",
    "print('Rating in our data',our_ratings)\n",
    "\n",
    "print('Ratings not in our list',set(ratings_)-set(our_ratings))"
   ]
  },
  {
   "cell_type": "code",
   "execution_count": 51,
   "metadata": {},
   "outputs": [
    {
     "name": "stdout",
     "output_type": "stream",
     "text": [
      "Number of times it predict the exact number : 0.0 %\n",
      "Number of times it predict the exact number or 1 different: 43.96 %\n",
      "Number of times it predict the exact number or 2 different: 67.33 %\n"
     ]
    }
   ],
   "source": [
    "#count the number of times the prediction value is equal to the real value over the total number of predictions\n",
    "print('Number of times it predict the exact number :',np.round(np.sum(y_pred == y) / len(y),4)*100,'%')\n",
    "\n",
    "# count the number of times the prediction value is equal o have only 1 different to the real value over the total number of predictions\n",
    "print('Number of times it predict the exact number or 1 different:',np.round(np.sum(abs(y_pred - y) <= 1) / len(y),4)*100,'%')\n",
    "\n",
    "# count the number of times the prediction value is equal o have only 1 different to the real value over the total number of predictions\n",
    "print('Number of times it predict the exact number or 2 different:',np.round(np.sum(abs(y_pred - y) <= 2) / len(y),4)*100,'%')"
   ]
  },
  {
   "cell_type": "code",
   "execution_count": 56,
   "metadata": {},
   "outputs": [
    {
     "name": "stdout",
     "output_type": "stream",
     "text": [
      "{0.0, 1.0, 2.0, 3.0, 4.0, 5.0, 6.0, 7.0}\n"
     ]
    }
   ],
   "source": [
    "y_pred_rounded = np.round(y_pred, decimals=0)\n",
    "y_pred_rounded= np.clip(y_pred_rounded, 0, 7)\n",
    "print(set(y_pred_rounded))"
   ]
  },
  {
   "cell_type": "code",
   "execution_count": 57,
   "metadata": {},
   "outputs": [
    {
     "data": {
      "image/png": "[encoded data removed]",
      "text/plain": [
       "<Figure size 640x480 with 2 Axes>"
      ]
     },
     "metadata": {},
     "output_type": "display_data"
    }
   ],
   "source": [
    "# plot the  Confusion Matrix for the companies in the main world index\n",
    "cm = confusion_matrix(y, y_pred_rounded)\n",
    "sns.heatmap(cm,  fmt=\"d\")\n",
    "# usa All_rating_order_group como ticks en el eje x e y\n",
    "ticks = np.arange(len(ratings_))+0.5\n",
    "plt.xticks(ticks=ticks, labels=ratings_,rotation=45,fontname='Times New Roman')\n",
    "plt.yticks(ticks=ticks, labels=ratings_,rotation=0,fontname='Times New Roman')\n",
    "plt.title('Modelo de Regresión Polinómicat',fontname='Times New Roman')\n",
    "plt.xlabel('Predicted')\n",
    "plt.ylabel('Actual')\n",
    "plt.savefig('plots/confusion_matrix_polreg_new_data.png')\n",
    "plt.show()"
   ]
  },
  {
   "cell_type": "markdown",
   "metadata": {},
   "source": [
    "### Modelo de ML"
   ]
  },
  {
   "cell_type": "code",
   "execution_count": 9,
   "metadata": {},
   "outputs": [],
   "source": [
    "X = df[var_x] \n",
    "y = np.array(df['Rating_ordinal']) "
   ]
  },
  {
   "cell_type": "code",
   "execution_count": 10,
   "metadata": {},
   "outputs": [],
   "source": [
    "# Realizar predicciones sobre el conjunto de prueba\n",
    "model = load('models/rf_model_rating.pkl')\n",
    "y_pred = model.predict(X)"
   ]
  },
  {
   "cell_type": "code",
   "execution_count": 11,
   "metadata": {},
   "outputs": [
    {
     "name": "stdout",
     "output_type": "stream",
     "text": [
      "Error Cuadrático Medio (MSE): 7.604249667994688\n",
      "Error Absoluto Medio (MEA): 1.5590969455511288\n"
     ]
    }
   ],
   "source": [
    "mse = mean_squared_error(y, y_pred)\n",
    "print(f\"Error Cuadrático Medio (MSE): {mse}\")\n",
    "\n",
    "mae = mean_absolute_error(y, y_pred)\n",
    "print(f\"Error Absoluto Medio (MEA): {mae}\")"
   ]
  },
  {
   "cell_type": "code",
   "execution_count": 13,
   "metadata": {},
   "outputs": [
    {
     "name": "stdout",
     "output_type": "stream",
     "text": [
      "Rating in the list {'BB-', 'B', 'BBB', 'BBB+', 'BBB-', 'AA', 'BB+', 'A+', 'CCC-', 'BB', 'CCC+', 'AA+', 'A', 'B-', 'CC', 'AAA', 'AA-', 'B+', 'A-', 'CCC'}\n",
      "Rating in our data {'A+', 'B-', 'BB', 'CCC', 'AA-', 'BB-', 'B', 'B+', 'BBB', 'BBB+', 'BBB-', 'AA', 'AAA', 'AA+', 'A-', 'BB+', 'A'}\n",
      "Ratings not in our list {'CCC-', 'CCC+', 'CC'}\n"
     ]
    }
   ],
   "source": [
    "ratings_ = All_rating_order.copy()\n",
    "ratings_.remove('D')\n",
    "ratings_.remove('SD')\n",
    "print('Rating in the list',set(ratings_))\n",
    "\n",
    "with open('dicts_ratings.json', 'r') as file:\n",
    "    dict_ratings = json.load(file)\n",
    "# invert the keys and values of the dit\n",
    "dict_ratings = {v: k for k, v in dict_ratings.items()}\n",
    "our_ratings = {dict_ratings[x] for x in set(df['Rating_ordinal'])}\n",
    "print('Rating in our data',our_ratings)\n",
    "\n",
    "print('Ratings not in our list',set(ratings_)-set(our_ratings))"
   ]
  },
  {
   "cell_type": "code",
   "execution_count": 14,
   "metadata": {},
   "outputs": [
    {
     "data": {
      "text/plain": [
       "{0, 1, 2, 3, 4, 5, 6, 7, 8, 9, 10, 11, 12, 13, 14, 15, 16, 17}"
      ]
     },
     "execution_count": 14,
     "metadata": {},
     "output_type": "execute_result"
    }
   ],
   "source": [
    "set(y_pred)"
   ]
  },
  {
   "cell_type": "code",
   "execution_count": 15,
   "metadata": {},
   "outputs": [
    {
     "name": "stdout",
     "output_type": "stream",
     "text": [
      "Number of times it predict the exact number : 54.32 %\n",
      "Number of times it predict the exact number or 1 different: 64.41 %\n",
      "Number of times it predict the exact number or 2 different: 74.1 %\n"
     ]
    }
   ],
   "source": [
    "#count the number of times the prediction value is equal to the real value over the total number of predictions\n",
    "print('Number of times it predict the exact number :',np.round(np.sum(y_pred == y) / len(y),4)*100,'%')\n",
    "\n",
    "# count the number of times the prediction value is equal o have only 1 different to the real value over the total number of predictions\n",
    "print('Number of times it predict the exact number or 1 different:',np.round(np.sum(abs(y_pred - y) <= 1) / len(y),4)*100,'%')\n",
    "\n",
    "# count the number of times the prediction value is equal o have only 1 different to the real value over the total number of predictions\n",
    "print('Number of times it predict the exact number or 2 different:',np.round(np.sum(abs(y_pred - y) <= 2) / len(y),4)*100,'%')"
   ]
  },
  {
   "cell_type": "code",
   "execution_count": 18,
   "metadata": {},
   "outputs": [
    {
     "data": {
      "image/png": "[encoded data removed]",
      "text/plain": [
       "<Figure size 640x480 with 2 Axes>"
      ]
     },
     "metadata": {},
     "output_type": "display_data"
    }
   ],
   "source": [
    "# plot the  Confusion Matrix for the companies in the main world index\n",
    "cm = confusion_matrix(y, y_pred)\n",
    "sns.heatmap(cm,  fmt=\"d\")\n",
    "# usa All_rating_order_group como ticks en el eje x e y\n",
    "ticks = np.arange(len(ratings_))+0.5\n",
    "plt.xticks(ticks=ticks, labels=ratings_,rotation=45,fontname='Times New Roman')\n",
    "plt.yticks(ticks=ticks, labels=ratings_,rotation=0,fontname='Times New Roman')\n",
    "plt.title('Modelo de Random Forest',fontname='Times New Roman')\n",
    "plt.xlabel('Predicted',fontname='Times New Roman')\n",
    "plt.ylabel('Actual',fontname='Times New Roman')\n",
    "plt.tight_layout()\n",
    "plt.savefig('plots/confusion_matrix_rf_new_data.png')\n",
    "plt.show()"
   ]
  },
  {
   "cell_type": "markdown",
   "metadata": {},
   "source": [
    "### Hacer predicciones "
   ]
  },
  {
   "cell_type": "code",
   "execution_count": 142,
   "metadata": {},
   "outputs": [],
   "source": [
    "model = load('models/rf_model_rating.pkl')"
   ]
  },
  {
   "cell_type": "code",
   "execution_count": 143,
   "metadata": {},
   "outputs": [
    {
     "data": {
      "text/html": [
       "<div>\n",
       "<style scoped>\n",
       "    .dataframe tbody tr th:only-of-type {\n",
       "        vertical-align: middle;\n",
       "    }\n",
       "\n",
       "    .dataframe tbody tr th {\n",
       "        vertical-align: top;\n",
       "    }\n",
       "\n",
       "    .dataframe thead th {\n",
       "        text-align: right;\n",
       "    }\n",
       "</style>\n",
       "<table border=\"1\" class=\"dataframe\">\n",
       "  <thead>\n",
       "    <tr style=\"text-align: right;\">\n",
       "      <th></th>\n",
       "      <th>Net Debt to EBITDA</th>\n",
       "      <th>Debt to Assets</th>\n",
       "      <th>Current Ratio</th>\n",
       "      <th>Quick Ratio</th>\n",
       "      <th>Cash ratio</th>\n",
       "      <th>Long Term Debt to Equity</th>\n",
       "      <th>Debt to Equity</th>\n",
       "      <th>Debt ratio</th>\n",
       "      <th>Financial Leverage</th>\n",
       "      <th>Sector_ordinal</th>\n",
       "    </tr>\n",
       "  </thead>\n",
       "  <tbody>\n",
       "    <tr>\n",
       "      <th>1200000_0.0</th>\n",
       "      <td>2.664740</td>\n",
       "      <td>0.490753</td>\n",
       "      <td>0.779621</td>\n",
       "      <td>0.761493</td>\n",
       "      <td>0.404312</td>\n",
       "      <td>1.017481</td>\n",
       "      <td>1.251908</td>\n",
       "      <td>2.037686</td>\n",
       "      <td>2.550996</td>\n",
       "      <td>3</td>\n",
       "    </tr>\n",
       "    <tr>\n",
       "      <th>1200000_0.125</th>\n",
       "      <td>2.696961</td>\n",
       "      <td>0.490244</td>\n",
       "      <td>0.745695</td>\n",
       "      <td>0.727566</td>\n",
       "      <td>0.370385</td>\n",
       "      <td>1.017481</td>\n",
       "      <td>1.251908</td>\n",
       "      <td>2.039800</td>\n",
       "      <td>2.553642</td>\n",
       "      <td>3</td>\n",
       "    </tr>\n",
       "    <tr>\n",
       "      <th>1200000_0.25</th>\n",
       "      <td>2.729181</td>\n",
       "      <td>0.489737</td>\n",
       "      <td>0.711768</td>\n",
       "      <td>0.693639</td>\n",
       "      <td>0.336458</td>\n",
       "      <td>1.017481</td>\n",
       "      <td>1.251908</td>\n",
       "      <td>2.041914</td>\n",
       "      <td>2.556288</td>\n",
       "      <td>3</td>\n",
       "    </tr>\n",
       "    <tr>\n",
       "      <th>1200000_0.375</th>\n",
       "      <td>2.761402</td>\n",
       "      <td>0.489230</td>\n",
       "      <td>0.677841</td>\n",
       "      <td>0.659713</td>\n",
       "      <td>0.302532</td>\n",
       "      <td>1.017481</td>\n",
       "      <td>1.251908</td>\n",
       "      <td>2.044028</td>\n",
       "      <td>2.558935</td>\n",
       "      <td>3</td>\n",
       "    </tr>\n",
       "    <tr>\n",
       "      <th>1200000_0.5</th>\n",
       "      <td>2.793622</td>\n",
       "      <td>0.488725</td>\n",
       "      <td>0.643914</td>\n",
       "      <td>0.625786</td>\n",
       "      <td>0.268605</td>\n",
       "      <td>1.017481</td>\n",
       "      <td>1.251908</td>\n",
       "      <td>2.046141</td>\n",
       "      <td>2.561581</td>\n",
       "      <td>3</td>\n",
       "    </tr>\n",
       "    <tr>\n",
       "      <th>...</th>\n",
       "      <td>...</td>\n",
       "      <td>...</td>\n",
       "      <td>...</td>\n",
       "      <td>...</td>\n",
       "      <td>...</td>\n",
       "      <td>...</td>\n",
       "      <td>...</td>\n",
       "      <td>...</td>\n",
       "      <td>...</td>\n",
       "      <td>...</td>\n",
       "    </tr>\n",
       "    <tr>\n",
       "      <th>2000000_0.625</th>\n",
       "      <td>2.825842</td>\n",
       "      <td>0.529492</td>\n",
       "      <td>1.064008</td>\n",
       "      <td>1.047754</td>\n",
       "      <td>0.727514</td>\n",
       "      <td>1.197420</td>\n",
       "      <td>1.476832</td>\n",
       "      <td>1.888604</td>\n",
       "      <td>2.789151</td>\n",
       "      <td>3</td>\n",
       "    </tr>\n",
       "    <tr>\n",
       "      <th>2000000_0.75</th>\n",
       "      <td>2.858063</td>\n",
       "      <td>0.531211</td>\n",
       "      <td>1.057574</td>\n",
       "      <td>1.041419</td>\n",
       "      <td>0.723114</td>\n",
       "      <td>1.208005</td>\n",
       "      <td>1.490063</td>\n",
       "      <td>1.882490</td>\n",
       "      <td>2.805028</td>\n",
       "      <td>3</td>\n",
       "    </tr>\n",
       "    <tr>\n",
       "      <th>2000000_0.875</th>\n",
       "      <td>2.890283</td>\n",
       "      <td>0.532912</td>\n",
       "      <td>1.051218</td>\n",
       "      <td>1.035159</td>\n",
       "      <td>0.718768</td>\n",
       "      <td>1.218590</td>\n",
       "      <td>1.503294</td>\n",
       "      <td>1.876483</td>\n",
       "      <td>2.820905</td>\n",
       "      <td>3</td>\n",
       "    </tr>\n",
       "    <tr>\n",
       "      <th>2000000_1.0</th>\n",
       "      <td>2.922504</td>\n",
       "      <td>0.534593</td>\n",
       "      <td>1.044937</td>\n",
       "      <td>1.028975</td>\n",
       "      <td>0.714474</td>\n",
       "      <td>1.229174</td>\n",
       "      <td>1.516524</td>\n",
       "      <td>1.870581</td>\n",
       "      <td>2.836782</td>\n",
       "      <td>3</td>\n",
       "    </tr>\n",
       "    <tr>\n",
       "      <th>current</th>\n",
       "      <td>2.058630</td>\n",
       "      <td>0.489032</td>\n",
       "      <td>1.270405</td>\n",
       "      <td>1.255812</td>\n",
       "      <td>0.887959</td>\n",
       "      <td>0.901513</td>\n",
       "      <td>1.135940</td>\n",
       "      <td>2.044855</td>\n",
       "      <td>2.322832</td>\n",
       "      <td>3</td>\n",
       "    </tr>\n",
       "  </tbody>\n",
       "</table>\n",
       "<p>82 rows × 10 columns</p>\n",
       "</div>"
      ],
      "text/plain": [
       "               Net Debt to EBITDA  Debt to Assets  Current Ratio  Quick Ratio  \\\n",
       "1200000_0.0              2.664740        0.490753       0.779621     0.761493   \n",
       "1200000_0.125            2.696961        0.490244       0.745695     0.727566   \n",
       "1200000_0.25             2.729181        0.489737       0.711768     0.693639   \n",
       "1200000_0.375            2.761402        0.489230       0.677841     0.659713   \n",
       "1200000_0.5              2.793622        0.488725       0.643914     0.625786   \n",
       "...                           ...             ...            ...          ...   \n",
       "2000000_0.625            2.825842        0.529492       1.064008     1.047754   \n",
       "2000000_0.75             2.858063        0.531211       1.057574     1.041419   \n",
       "2000000_0.875            2.890283        0.532912       1.051218     1.035159   \n",
       "2000000_1.0              2.922504        0.534593       1.044937     1.028975   \n",
       "current                  2.058630        0.489032       1.270405     1.255812   \n",
       "\n",
       "               Cash ratio  Long Term Debt to Equity  Debt to Equity  \\\n",
       "1200000_0.0      0.404312                  1.017481        1.251908   \n",
       "1200000_0.125    0.370385                  1.017481        1.251908   \n",
       "1200000_0.25     0.336458                  1.017481        1.251908   \n",
       "1200000_0.375    0.302532                  1.017481        1.251908   \n",
       "1200000_0.5      0.268605                  1.017481        1.251908   \n",
       "...                   ...                       ...             ...   \n",
       "2000000_0.625    0.727514                  1.197420        1.476832   \n",
       "2000000_0.75     0.723114                  1.208005        1.490063   \n",
       "2000000_0.875    0.718768                  1.218590        1.503294   \n",
       "2000000_1.0      0.714474                  1.229174        1.516524   \n",
       "current          0.887959                  0.901513        1.135940   \n",
       "\n",
       "               Debt ratio  Financial Leverage  Sector_ordinal  \n",
       "1200000_0.0      2.037686            2.550996               3  \n",
       "1200000_0.125    2.039800            2.553642               3  \n",
       "1200000_0.25     2.041914            2.556288               3  \n",
       "1200000_0.375    2.044028            2.558935               3  \n",
       "1200000_0.5      2.046141            2.561581               3  \n",
       "...                   ...                 ...             ...  \n",
       "2000000_0.625    1.888604            2.789151               3  \n",
       "2000000_0.75     1.882490            2.805028               3  \n",
       "2000000_0.875    1.876483            2.820905               3  \n",
       "2000000_1.0      1.870581            2.836782               3  \n",
       "current          2.044855            2.322832               3  \n",
       "\n",
       "[82 rows x 10 columns]"
      ]
     },
     "execution_count": 143,
     "metadata": {},
     "output_type": "execute_result"
    }
   ],
   "source": [
    "# add in the last row of the df the values of the list current_ratios\n",
    "X = df[var_x] \n",
    "X"
   ]
  },
  {
   "cell_type": "code",
   "execution_count": 145,
   "metadata": {},
   "outputs": [],
   "source": [
    "y_pred = model.predict(X)"
   ]
  },
  {
   "cell_type": "code",
   "execution_count": 146,
   "metadata": {},
   "outputs": [
    {
     "data": {
      "text/plain": [
       "array([11, 11, 11,  8,  6,  6,  6,  6,  6, 11, 11, 11, 11, 11,  8, 10, 10,\n",
       "       11, 13, 13, 12, 12, 12, 11, 11,  3,  4, 13, 13, 13, 13, 12, 12, 12,\n",
       "       12, 11,  5,  8,  8,  8,  8,  8, 12, 12,  8,  9,  9,  5,  5,  8,  8,\n",
       "        8,  8,  8,  9,  9,  9,  9,  8,  8,  5, 10,  8,  9,  9,  8,  8,  9,\n",
       "        9,  9,  9,  9,  4,  4,  9,  9,  9,  9,  9,  9,  9,  4],\n",
       "      dtype=int64)"
      ]
     },
     "execution_count": 146,
     "metadata": {},
     "output_type": "execute_result"
    }
   ],
   "source": [
    "y_pred"
   ]
  },
  {
   "cell_type": "code",
   "execution_count": 147,
   "metadata": {},
   "outputs": [],
   "source": [
    "with open('dicts_ratings.json', 'r') as file:\n",
    "    dict_ratings = json.load(file)\n",
    "# invert the keys and values of the dit\n",
    "dict_ratings = {v: k for k, v in dict_ratings.items()}"
   ]
  },
  {
   "cell_type": "code",
   "execution_count": 148,
   "metadata": {},
   "outputs": [
    {
     "name": "stdout",
     "output_type": "stream",
     "text": [
      "['BB', 'BB', 'BB', 'BBB', 'A-', 'A-', 'A-', 'A-', 'A-', 'BB', 'BB', 'BB', 'BB', 'BB', 'BBB', 'BB+', 'BB+', 'BB', 'B+', 'B+', 'BB-', 'BB-', 'BB-', 'BB', 'BB', 'AA-', 'A+', 'B+', 'B+', 'B+', 'B+', 'BB-', 'BB-', 'BB-', 'BB-', 'BB', 'A', 'BBB', 'BBB', 'BBB', 'BBB', 'BBB', 'BB-', 'BB-', 'BBB', 'BBB-', 'BBB-', 'A', 'A', 'BBB', 'BBB', 'BBB', 'BBB', 'BBB', 'BBB-', 'BBB-', 'BBB-', 'BBB-', 'BBB', 'BBB', 'A', 'BB+', 'BBB', 'BBB-', 'BBB-', 'BBB', 'BBB', 'BBB-', 'BBB-', 'BBB-', 'BBB-', 'BBB-', 'A+', 'A+', 'BBB-', 'BBB-', 'BBB-', 'BBB-', 'BBB-', 'BBB-', 'BBB-', 'A+']\n"
     ]
    }
   ],
   "source": [
    "print([dict_ratings[i] for i in y_pred])"
   ]
  },
  {
   "cell_type": "code",
   "execution_count": 153,
   "metadata": {},
   "outputs": [
    {
     "name": "stderr",
     "output_type": "stream",
     "text": [
      "C:\\Users\\Usuario\\AppData\\Local\\Temp\\ipykernel_17392\\3294427990.py:1: SettingWithCopyWarning: \n",
      "A value is trying to be set on a copy of a slice from a DataFrame.\n",
      "Try using .loc[row_indexer,col_indexer] = value instead\n",
      "\n",
      "See the caveats in the documentation: https://pandas.pydata.org/pandas-docs/stable/user_guide/indexing.html#returning-a-view-versus-a-copy\n",
      "  X['Estimated_rating'] = [dict_ratings[i] for i in y_pred]\n",
      "C:\\Users\\Usuario\\AppData\\Local\\Temp\\ipykernel_17392\\3294427990.py:2: SettingWithCopyWarning: \n",
      "A value is trying to be set on a copy of a slice from a DataFrame.\n",
      "Try using .loc[row_indexer,col_indexer] = value instead\n",
      "\n",
      "See the caveats in the documentation: https://pandas.pydata.org/pandas-docs/stable/user_guide/indexing.html#returning-a-view-versus-a-copy\n",
      "  X['Sector_ordinal'] = 'Industrial'\n"
     ]
    },
    {
     "data": {
      "text/html": [
       "<div>\n",
       "<style scoped>\n",
       "    .dataframe tbody tr th:only-of-type {\n",
       "        vertical-align: middle;\n",
       "    }\n",
       "\n",
       "    .dataframe tbody tr th {\n",
       "        vertical-align: top;\n",
       "    }\n",
       "\n",
       "    .dataframe thead th {\n",
       "        text-align: right;\n",
       "    }\n",
       "</style>\n",
       "<table border=\"1\" class=\"dataframe\">\n",
       "  <thead>\n",
       "    <tr style=\"text-align: right;\">\n",
       "      <th></th>\n",
       "      <th>Net Debt to EBITDA</th>\n",
       "      <th>Debt to Assets</th>\n",
       "      <th>Current Ratio</th>\n",
       "      <th>Quick Ratio</th>\n",
       "      <th>Cash ratio</th>\n",
       "      <th>Long Term Debt to Equity</th>\n",
       "      <th>Debt to Equity</th>\n",
       "      <th>Debt ratio</th>\n",
       "      <th>Financial Leverage</th>\n",
       "      <th>Sector_ordinal</th>\n",
       "      <th>Estimated_rating</th>\n",
       "    </tr>\n",
       "  </thead>\n",
       "  <tbody>\n",
       "    <tr>\n",
       "      <th>1200000_0.0</th>\n",
       "      <td>2.664740</td>\n",
       "      <td>0.490753</td>\n",
       "      <td>0.779621</td>\n",
       "      <td>0.761493</td>\n",
       "      <td>0.404312</td>\n",
       "      <td>1.017481</td>\n",
       "      <td>1.251908</td>\n",
       "      <td>2.037686</td>\n",
       "      <td>2.550996</td>\n",
       "      <td>Industrial</td>\n",
       "      <td>BB</td>\n",
       "    </tr>\n",
       "    <tr>\n",
       "      <th>1200000_0.125</th>\n",
       "      <td>2.696961</td>\n",
       "      <td>0.490244</td>\n",
       "      <td>0.745695</td>\n",
       "      <td>0.727566</td>\n",
       "      <td>0.370385</td>\n",
       "      <td>1.017481</td>\n",
       "      <td>1.251908</td>\n",
       "      <td>2.039800</td>\n",
       "      <td>2.553642</td>\n",
       "      <td>Industrial</td>\n",
       "      <td>BB</td>\n",
       "    </tr>\n",
       "    <tr>\n",
       "      <th>1200000_0.25</th>\n",
       "      <td>2.729181</td>\n",
       "      <td>0.489737</td>\n",
       "      <td>0.711768</td>\n",
       "      <td>0.693639</td>\n",
       "      <td>0.336458</td>\n",
       "      <td>1.017481</td>\n",
       "      <td>1.251908</td>\n",
       "      <td>2.041914</td>\n",
       "      <td>2.556288</td>\n",
       "      <td>Industrial</td>\n",
       "      <td>BB</td>\n",
       "    </tr>\n",
       "    <tr>\n",
       "      <th>1200000_0.375</th>\n",
       "      <td>2.761402</td>\n",
       "      <td>0.489230</td>\n",
       "      <td>0.677841</td>\n",
       "      <td>0.659713</td>\n",
       "      <td>0.302532</td>\n",
       "      <td>1.017481</td>\n",
       "      <td>1.251908</td>\n",
       "      <td>2.044028</td>\n",
       "      <td>2.558935</td>\n",
       "      <td>Industrial</td>\n",
       "      <td>BBB</td>\n",
       "    </tr>\n",
       "    <tr>\n",
       "      <th>1200000_0.5</th>\n",
       "      <td>2.793622</td>\n",
       "      <td>0.488725</td>\n",
       "      <td>0.643914</td>\n",
       "      <td>0.625786</td>\n",
       "      <td>0.268605</td>\n",
       "      <td>1.017481</td>\n",
       "      <td>1.251908</td>\n",
       "      <td>2.046141</td>\n",
       "      <td>2.561581</td>\n",
       "      <td>Industrial</td>\n",
       "      <td>A-</td>\n",
       "    </tr>\n",
       "  </tbody>\n",
       "</table>\n",
       "</div>"
      ],
      "text/plain": [
       "               Net Debt to EBITDA  Debt to Assets  Current Ratio  Quick Ratio  \\\n",
       "1200000_0.0              2.664740        0.490753       0.779621     0.761493   \n",
       "1200000_0.125            2.696961        0.490244       0.745695     0.727566   \n",
       "1200000_0.25             2.729181        0.489737       0.711768     0.693639   \n",
       "1200000_0.375            2.761402        0.489230       0.677841     0.659713   \n",
       "1200000_0.5              2.793622        0.488725       0.643914     0.625786   \n",
       "\n",
       "               Cash ratio  Long Term Debt to Equity  Debt to Equity  \\\n",
       "1200000_0.0      0.404312                  1.017481        1.251908   \n",
       "1200000_0.125    0.370385                  1.017481        1.251908   \n",
       "1200000_0.25     0.336458                  1.017481        1.251908   \n",
       "1200000_0.375    0.302532                  1.017481        1.251908   \n",
       "1200000_0.5      0.268605                  1.017481        1.251908   \n",
       "\n",
       "               Debt ratio  Financial Leverage Sector_ordinal Estimated_rating  \n",
       "1200000_0.0      2.037686            2.550996     Industrial               BB  \n",
       "1200000_0.125    2.039800            2.553642     Industrial               BB  \n",
       "1200000_0.25     2.041914            2.556288     Industrial               BB  \n",
       "1200000_0.375    2.044028            2.558935     Industrial              BBB  \n",
       "1200000_0.5      2.046141            2.561581     Industrial               A-  "
      ]
     },
     "execution_count": 153,
     "metadata": {},
     "output_type": "execute_result"
    }
   ],
   "source": [
    "X['Estimated_rating'] = [dict_ratings[i] for i in y_pred]\n",
    "X['Sector_ordinal'] = 'Industrial'\n",
    "X.head()"
   ]
  },
  {
   "cell_type": "code",
   "execution_count": 154,
   "metadata": {},
   "outputs": [],
   "source": [
    "# export to excel the df X\n",
    "X.to_excel('Analisis_rating_results.xlsx')\n"
   ]
  },
  {
   "cell_type": "code",
   "execution_count": null,
   "metadata": {},
   "outputs": [],
   "source": []
  }
 ],
 "metadata": {
  "kernelspec": {
   "display_name": "env_ratings",
   "language": "python",
   "name": "python3"
  },
  "language_info": {
   "codemirror_mode": {
    "name": "ipython",
    "version": 3
   },
   "file_extension": ".py",
   "mimetype": "text/x-python",
   "name": "python",
   "nbconvert_exporter": "python",
   "pygments_lexer": "ipython3",
   "version": "3.9.0"
  }
 },
 "nbformat": 4,
 "nbformat_minor": 2
}
