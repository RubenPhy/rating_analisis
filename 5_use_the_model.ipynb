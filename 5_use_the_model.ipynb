{
 "cells": [
  {
   "cell_type": "markdown",
   "metadata": {},
   "source": [
    "0) puede que lo predizca tan bien porque las muestras están repetidas, asi que usaremos los nuevos datos para hacer el test real (hacer el una fucion que te haga todo, \n",
    "    1) le pasas las varaibles\n",
    "    2) te calcula las mtricas \n",
    "    3) con el modelo cargado te hace las prediccion y leugo ver los resultados.\n",
    "1) descargasr los datos del S&P e IBEX, ver si estan en el modelo y clasificar esas compaññias a dia de hoy\n",
    "2) reducir el numbero de arboles del random forest\n",
    "3) hacer con el algoritmo de random forest\n",
    "4) hacer todo esto en el mismo sitio y que te saque los plot juntos para todos los modelos y poder comentar los mdelos que hemos usado y los resutlaos en un solo sitio\n",
    "5) limpiar el codigo,\n",
    "6) escribir el articulo\n",
    "    - Hacer un trabajo modo paper sobre uno de los temas, entrega limite el 15 de abril\n",
    "    - Hacer un buen análisis bibliográfico\n",
    "    - Descripción del método de la estadística\n",
    "    - Mientras más cercano sea a la realidad más puntación tendrá\n",
    "    - La preguntas del examen estarán contenidas en el tema de lecciones\n",
    "        - En recurso el temario es mucho más extenso\n",
    "    - Cuanto más corto sea mejor\n",
    "    - Hacer el análisis de inferencia estadística\n",
    "    - Ver que ten todos los temas de las notas\n",
    "    - Hacer una regresion logistica multinomial ordenada? Decir las varailas (numericas,  categoricas con y sin orden , para la x la y etc) que tengo y como son y ver el tipo de regreison \n",
    "    - HAcer con  más datos, los que no tiene  rating y ver su distrución \n",
    "    \n",
    "\n",
    "7) Ver los Do To Futuros\n",
    "    - Sacar el cost of debt (para en caso de que lo tengamos hacer otro modelo)\n",
    "    - Aplicar más tecnicas de ML (esto no es predición esto es estimacion de una compañía actual)\n",
    "    - Scar el tamañao de la empresa - market cap\n",
    "    - Pensar si normalizar los datos para el entrenamiento\n",
    "    - Sacar esto con las nuevas varaibles (con market cap porque las comps siempre seran cotizadas) \n",
    "    - y si solo lo hacemos para un año concreto , cuantas salen?\n",
    "    - Poder usar este modelo desde excel (sacar los datos y la caslficaicon de las industrias y los rating)\n",
    "\n",
    "7) mandar correo al profresor"
   ]
  },
  {
   "cell_type": "markdown",
   "metadata": {},
   "source": [
    "## Usos de los modelos\n",
    "0) puede que lo predizca tan bien porque las muestras están repetidas, asi que usaremos los nuevos datos para hacer el test real (hacer el una fucion que te haga todo, \n",
    "    1) le pasas las varaibles\n",
    "    2) te calcula las mtricas \n",
    "    3) con el modelo cargado te hace las prediccion y leugo ver los resultados."
   ]
  },
  {
   "cell_type": "code",
   "execution_count": 25,
   "metadata": {},
   "outputs": [],
   "source": [
    "# read the data/2024_main_comps.xlsx\n",
    "import pandas as pd\n",
    "from standard_data import *\n",
    "import numpy as np\n",
    "import json\n",
    "from sklearn.metrics import mean_absolute_error,mean_squared_error\n",
    "from joblib import load\n",
    "\n",
    "from sklearn.metrics import confusion_matrix\n",
    "from matplotlib import pyplot as plt\n",
    "import seaborn as sns"
   ]
  },
  {
   "cell_type": "code",
   "execution_count": 26,
   "metadata": {},
   "outputs": [],
   "source": [
    "def preprocesado_df(file):\n",
    "    \"\"\"\n",
    "    Function to read the data\n",
    "    Delete NanN\n",
    "    Compute the main matric\n",
    "    Transform the categorical data\n",
    "    \"\"\"\n",
    "    df_base = pd.read_excel(file, skiprows=3, usecols=\"B:O\")\n",
    "    df = df_base\n",
    "    mask = (df[columns_to_check] != 0) & (df[columns_to_check] != \"NaN\")\n",
    "    df = df[mask.any(axis=1)]\n",
    "    \n",
    "    df = df.copy()\n",
    "    for columnas in columns_to_check:\n",
    "        df[columnas] = pd.to_numeric(df[columnas], errors='coerce')\n",
    "    df = compute_main_ratios(df)\n",
    "\n",
    "    # Delete rows and columns that are not necesarry\n",
    "    dif_of_0 = [\"Total Equity\",\"Current Liabilities\",\"Total Debt\",\"EBITDA\"]\n",
    "    for col_ in dif_of_0:\n",
    "        df = df[df[col_] != 0]\n",
    "    df.dropna(inplace=True)\n",
    "    df = df[var_x_num+['Rating','Sector']]\n",
    "    \n",
    "    # Pasamos las varaibles categoricas a ordinales\n",
    "    df.loc[:,'Rating_group'] = df['Rating'].map(All_rating_order_group)\n",
    "    \n",
    "    df.loc[:,'Sector_ordinal'] = df['Sector'].map(sectores_dic)\n",
    "\n",
    "    with open('dicts_ratings.json', 'r') as file:\n",
    "            dict_ratings = json.load(file)\n",
    "    \n",
    "    df.loc[:,'Rating_ordinal'] = df['Rating'].map(dict_ratings)\n",
    "\n",
    "    with open('dicts_ratings_group.json', 'r') as file:\n",
    "            dict_ratings = json.load(file)\n",
    "    \n",
    "    df.loc[:,'Rating_group_ordinal'] = df['Rating_group'].map(dict_ratings)\n",
    "    \n",
    "    # Solo las variables que necesitamos para el modelo\n",
    "    df = df[['Rating_ordinal','Rating_group_ordinal'] + var_x_num + ['Sector_ordinal']]\n",
    "    return df_base, df\n",
    "\n",
    "file = 'data/2024_main_comps.xlsx'\n",
    "(df_base, df) = preprocesado_df(file)"
   ]
  },
  {
   "cell_type": "code",
   "execution_count": 27,
   "metadata": {},
   "outputs": [
    {
     "data": {
      "text/plain": [
       "Rating_ordinal              897\n",
       "Rating_group_ordinal        897\n",
       "Net Debt to EBITDA            0\n",
       "Debt to Assets                0\n",
       "Current Ratio                 0\n",
       "Quick Ratio                   0\n",
       "Cash ratio                    0\n",
       "Long Term Debt to Equity      0\n",
       "Debt to Equity                0\n",
       "Debt ratio                    0\n",
       "Financial Leverage            0\n",
       "Sector_ordinal                0\n",
       "dtype: int64"
      ]
     },
     "execution_count": 27,
     "metadata": {},
     "output_type": "execute_result"
    }
   ],
   "source": [
    "# count the number of nan in each column\n",
    "df.isna().sum()"
   ]
  },
  {
   "cell_type": "code",
   "execution_count": 28,
   "metadata": {},
   "outputs": [
    {
     "data": {
      "text/plain": [
       "Rating_ordinal              0\n",
       "Rating_group_ordinal        0\n",
       "Net Debt to EBITDA          0\n",
       "Debt to Assets              0\n",
       "Current Ratio               0\n",
       "Quick Ratio                 0\n",
       "Cash ratio                  0\n",
       "Long Term Debt to Equity    0\n",
       "Debt to Equity              0\n",
       "Debt ratio                  0\n",
       "Financial Leverage          0\n",
       "Sector_ordinal              0\n",
       "dtype: int64"
      ]
     },
     "execution_count": 28,
     "metadata": {},
     "output_type": "execute_result"
    }
   ],
   "source": [
    "# filter de df only if the value in the column 'Rating_ordina' is a number\n",
    "df = df[df['Rating_ordinal'].notna()]\n",
    "df.isna().sum()"
   ]
  },
  {
   "cell_type": "code",
   "execution_count": 29,
   "metadata": {},
   "outputs": [
    {
     "data": {
      "text/plain": [
       "Rating_ordinal              0\n",
       "Rating_group_ordinal        0\n",
       "Net Debt to EBITDA          0\n",
       "Debt to Assets              0\n",
       "Current Ratio               0\n",
       "Quick Ratio                 0\n",
       "Cash ratio                  0\n",
       "Long Term Debt to Equity    0\n",
       "Debt to Equity              0\n",
       "Debt ratio                  0\n",
       "Financial Leverage          0\n",
       "Sector_ordinal              0\n",
       "dtype: int64"
      ]
     },
     "execution_count": 29,
     "metadata": {},
     "output_type": "execute_result"
    }
   ],
   "source": [
    "#check if the are inf in the df\n",
    "df.isin([np.inf, -np.inf]).sum()"
   ]
  },
  {
   "cell_type": "markdown",
   "metadata": {},
   "source": [
    "### Modelo logistico"
   ]
  },
  {
   "cell_type": "code",
   "execution_count": 31,
   "metadata": {},
   "outputs": [
    {
     "name": "stdout",
     "output_type": "stream",
     "text": [
      "(753, 12)\n"
     ]
    }
   ],
   "source": [
    "var_x = var_x_num + ['Sector_ordinal']\n",
    "X = df[var_x] \n",
    "y = np.array(df['Rating_group_ordinal']) \n",
    "print(df.shape)"
   ]
  },
  {
   "cell_type": "code",
   "execution_count": 40,
   "metadata": {},
   "outputs": [],
   "source": [
    "# Realizar predicciones sobre el conjunto de prueba\n",
    "model = load('models/logistic_model.sav')\n",
    "y_pred = model.predict(X)"
   ]
  },
  {
   "cell_type": "code",
   "execution_count": 41,
   "metadata": {},
   "outputs": [
    {
     "name": "stdout",
     "output_type": "stream",
     "text": [
      "Error Cuadrático Medio (MSE): 6.411686586985391\n",
      "Error Absoluto Medio (MEA): 2.361221779548473\n"
     ]
    }
   ],
   "source": [
    "mse = mean_squared_error(y, y_pred)\n",
    "print(f\"Error Cuadrático Medio (MSE): {mse}\")\n",
    "\n",
    "mae = mean_absolute_error(y, y_pred)\n",
    "print(f\"Error Absoluto Medio (MEA): {mae}\")"
   ]
  },
  {
   "cell_type": "code",
   "execution_count": 42,
   "metadata": {},
   "outputs": [
    {
     "name": "stdout",
     "output_type": "stream",
     "text": [
      "Rating in the list {'CCC', 'BBB', 'A', 'BB', 'AAA', 'CC', 'AA', 'B'}\n",
      "Rating in our data {'CCC', 'BBB', 'A', 'BB', 'AAA', 'AA', 'B'}\n",
      "Ratings not in our list {'CC'}\n"
     ]
    }
   ],
   "source": [
    "ratings_ = rating_order_group.copy()\n",
    "ratings_.remove('D')\n",
    "print('Rating in the list',set(ratings_))\n",
    "\n",
    "with open('dicts_ratings_group.json', 'r') as file:\n",
    "    dict_ratings = json.load(file)\n",
    "# invert the keys and values of the dit\n",
    "dict_ratings = {v: k for k, v in dict_ratings.items()}\n",
    "our_ratings = {dict_ratings[x] for x in set(df['Rating_group_ordinal'])}\n",
    "print('Rating in our data',our_ratings)\n",
    "\n",
    "print('Ratings not in our list',set(ratings_)-set(our_ratings))"
   ]
  },
  {
   "cell_type": "code",
   "execution_count": 43,
   "metadata": {},
   "outputs": [
    {
     "data": {
      "text/plain": [
       "{0, 1, 2, 3, 4, 5, 6, 7}"
      ]
     },
     "execution_count": 43,
     "metadata": {},
     "output_type": "execute_result"
    }
   ],
   "source": [
    "set(y_pred)"
   ]
  },
  {
   "cell_type": "code",
   "execution_count": 44,
   "metadata": {},
   "outputs": [
    {
     "name": "stdout",
     "output_type": "stream",
     "text": [
      "Number of times it predict the exact number : 3.05 %\n",
      "Number of times it predict the exact number or 1 different: 15.27 %\n",
      "Number of times it predict the exact number or 2 different: 53.39 %\n"
     ]
    }
   ],
   "source": [
    "#count the number of times the prediction value is equal to the real value over the total number of predictions\n",
    "print('Number of times it predict the exact number :',np.round(np.sum(y_pred == y) / len(y),4)*100,'%')\n",
    "\n",
    "# count the number of times the prediction value is equal o have only 1 different to the real value over the total number of predictions\n",
    "print('Number of times it predict the exact number or 1 different:',np.round(np.sum(abs(y_pred - y) <= 1) / len(y),4)*100,'%')\n",
    "\n",
    "# count the number of times the prediction value is equal o have only 1 different to the real value over the total number of predictions\n",
    "print('Number of times it predict the exact number or 2 different:',np.round(np.sum(abs(y_pred - y) <= 2) / len(y),4)*100,'%')"
   ]
  },
  {
   "cell_type": "code",
   "execution_count": 45,
   "metadata": {},
   "outputs": [
    {
     "data": {
      "image/png": "[encoded data removed]",
      "text/plain": [
       "<Figure size 640x480 with 2 Axes>"
      ]
     },
     "metadata": {},
     "output_type": "display_data"
    }
   ],
   "source": [
    "# plot the  Confusion Matrix for the companies in the main world index\n",
    "cm = confusion_matrix(y, y_pred)\n",
    "sns.heatmap(cm,  fmt=\"d\")\n",
    "# usa All_rating_order_group como ticks en el eje x e y\n",
    "ticks = np.arange(len(ratings_))+0.5\n",
    "plt.xticks(ticks=ticks, labels=ratings_,rotation=45,fontname='Times New Roman')\n",
    "plt.yticks(ticks=ticks, labels=ratings_,rotation=0,fontname='Times New Roman')\n",
    "plt.title('Modelo de Logistico',fontname='Times New Roman')\n",
    "plt.xlabel('Predicted')\n",
    "plt.ylabel('Actual')\n",
    "plt.savefig('plots/confusion_matrix_logistic_new_data.png')\n",
    "plt.show()"
   ]
  },
  {
   "cell_type": "markdown",
   "metadata": {},
   "source": [
    "### Modelo regresión"
   ]
  },
  {
   "cell_type": "code",
   "execution_count": 46,
   "metadata": {},
   "outputs": [],
   "source": [
    "# Realizar predicciones sobre el conjunto de prueba\n",
    "model = load('models/polyreg_model.sav')\n",
    "y_pred = model.predict(X)"
   ]
  },
  {
   "cell_type": "code",
   "execution_count": 47,
   "metadata": {},
   "outputs": [
    {
     "name": "stdout",
     "output_type": "stream",
     "text": [
      "Error Cuadrático Medio (MSE): 5973724117555747.0\n",
      "Error Absoluto Medio (MEA): 3197613.8834739593\n"
     ]
    }
   ],
   "source": [
    "mse = mean_squared_error(y, y_pred)\n",
    "print(f\"Error Cuadrático Medio (MSE): {mse}\")\n",
    "\n",
    "mae = mean_absolute_error(y, y_pred)\n",
    "print(f\"Error Absoluto Medio (MEA): {mae}\")"
   ]
  },
  {
   "cell_type": "code",
   "execution_count": 48,
   "metadata": {},
   "outputs": [
    {
     "name": "stdout",
     "output_type": "stream",
     "text": [
      "Rating in the list {'CC', 'AA', 'CCC+', 'AA+', 'BB', 'BB+', 'AAA', 'BBB+', 'BB-', 'AA-', 'B', 'CCC-', 'CCC', 'A-', 'A+', 'B+', 'BBB', 'A', 'BBB-', 'B-'}\n",
      "Rating in our data {'CCC', 'BBB', 'A', 'BB', 'BBB-', 'A-', 'BB+', 'AAA', 'BBB+', 'AA', 'BB-', 'A+', 'B+', 'B-', 'AA-', 'AA+', 'B'}\n",
      "Ratings not in our list {'CCC+', 'CC', 'CCC-'}\n"
     ]
    }
   ],
   "source": [
    "ratings_ = All_rating_order.copy()\n",
    "ratings_.remove('D')\n",
    "ratings_.remove('SD')\n",
    "print('Rating in the list',set(ratings_))\n",
    "\n",
    "with open('dicts_ratings.json', 'r') as file:\n",
    "    dict_ratings = json.load(file)\n",
    "# invert the keys and values of the dit\n",
    "dict_ratings = {v: k for k, v in dict_ratings.items()}\n",
    "our_ratings = {dict_ratings[x] for x in set(df['Rating_ordinal'])}\n",
    "print('Rating in our data',our_ratings)\n",
    "\n",
    "print('Ratings not in our list',set(ratings_)-set(our_ratings))"
   ]
  },
  {
   "cell_type": "code",
   "execution_count": 49,
   "metadata": {},
   "outputs": [
    {
     "name": "stdout",
     "output_type": "stream",
     "text": [
      "Number of times it predict the exact number : 0.0 %\n",
      "Number of times it predict the exact number or 1 different: 44.75 %\n",
      "Number of times it predict the exact number or 2 different: 66.93 %\n"
     ]
    }
   ],
   "source": [
    "#count the number of times the prediction value is equal to the real value over the total number of predictions\n",
    "print('Number of times it predict the exact number :',np.round(np.sum(y_pred == y) / len(y),4)*100,'%')\n",
    "\n",
    "# count the number of times the prediction value is equal o have only 1 different to the real value over the total number of predictions\n",
    "print('Number of times it predict the exact number or 1 different:',np.round(np.sum(abs(y_pred - y) <= 1) / len(y),4)*100,'%')\n",
    "\n",
    "# count the number of times the prediction value is equal o have only 1 different to the real value over the total number of predictions\n",
    "print('Number of times it predict the exact number or 2 different:',np.round(np.sum(abs(y_pred - y) <= 2) / len(y),4)*100,'%')"
   ]
  },
  {
   "cell_type": "code",
   "execution_count": 50,
   "metadata": {},
   "outputs": [
    {
     "name": "stdout",
     "output_type": "stream",
     "text": [
      "{0.0, 1.0, 2.0, 3.0, 4.0, 5.0, 6.0, 7.0, 8.0, 9.0, 10.0, 14.0, 15.0, 18.0, 19.0}\n"
     ]
    }
   ],
   "source": [
    "y_pred_rounded = np.round(y_pred, decimals=0)\n",
    "y_pred_rounded= np.clip(y_pred_rounded, 0, 19)\n",
    "print(set(y_pred_rounded))"
   ]
  },
  {
   "cell_type": "code",
   "execution_count": 51,
   "metadata": {},
   "outputs": [
    {
     "data": {
      "text/plain": [
       "(753, 753)"
      ]
     },
     "execution_count": 51,
     "metadata": {},
     "output_type": "execute_result"
    }
   ],
   "source": [
    "len(y),len(y_pred)"
   ]
  },
  {
   "cell_type": "code",
   "execution_count": 52,
   "metadata": {},
   "outputs": [
    {
     "ename": "ValueError",
     "evalue": "Classification metrics can't handle a mix of multiclass and continuous targets",
     "output_type": "error",
     "traceback": [
      "\u001b[1;31m---------------------------------------------------------------------------\u001b[0m",
      "\u001b[1;31mValueError\u001b[0m                                Traceback (most recent call last)",
      "Cell \u001b[1;32mIn[52], line 2\u001b[0m\n\u001b[0;32m      1\u001b[0m \u001b[38;5;66;03m# plot the  Confusion Matrix for the companies in the main world index\u001b[39;00m\n\u001b[1;32m----> 2\u001b[0m cm \u001b[38;5;241m=\u001b[39m \u001b[43mconfusion_matrix\u001b[49m\u001b[43m(\u001b[49m\u001b[43my\u001b[49m\u001b[43m,\u001b[49m\u001b[43m \u001b[49m\u001b[43my_pred\u001b[49m\u001b[43m)\u001b[49m\n\u001b[0;32m      3\u001b[0m sns\u001b[38;5;241m.\u001b[39mheatmap(cm,  fmt\u001b[38;5;241m=\u001b[39m\u001b[38;5;124m\"\u001b[39m\u001b[38;5;124md\u001b[39m\u001b[38;5;124m\"\u001b[39m)\n\u001b[0;32m      4\u001b[0m \u001b[38;5;66;03m# usa All_rating_order_group como ticks en el eje x e y\u001b[39;00m\n",
      "File \u001b[1;32mc:\\Users\\Ruben\\Documents\\PhD_AI\\Clases\\estadistica\\rating_analisis\\env_ratings\\lib\\site-packages\\sklearn\\utils\\_param_validation.py:213\u001b[0m, in \u001b[0;36mvalidate_params.<locals>.decorator.<locals>.wrapper\u001b[1;34m(*args, **kwargs)\u001b[0m\n\u001b[0;32m    207\u001b[0m \u001b[38;5;28;01mtry\u001b[39;00m:\n\u001b[0;32m    208\u001b[0m     \u001b[38;5;28;01mwith\u001b[39;00m config_context(\n\u001b[0;32m    209\u001b[0m         skip_parameter_validation\u001b[38;5;241m=\u001b[39m(\n\u001b[0;32m    210\u001b[0m             prefer_skip_nested_validation \u001b[38;5;129;01mor\u001b[39;00m global_skip_validation\n\u001b[0;32m    211\u001b[0m         )\n\u001b[0;32m    212\u001b[0m     ):\n\u001b[1;32m--> 213\u001b[0m         \u001b[38;5;28;01mreturn\u001b[39;00m func(\u001b[38;5;241m*\u001b[39margs, \u001b[38;5;241m*\u001b[39m\u001b[38;5;241m*\u001b[39mkwargs)\n\u001b[0;32m    214\u001b[0m \u001b[38;5;28;01mexcept\u001b[39;00m InvalidParameterError \u001b[38;5;28;01mas\u001b[39;00m e:\n\u001b[0;32m    215\u001b[0m     \u001b[38;5;66;03m# When the function is just a wrapper around an estimator, we allow\u001b[39;00m\n\u001b[0;32m    216\u001b[0m     \u001b[38;5;66;03m# the function to delegate validation to the estimator, but we replace\u001b[39;00m\n\u001b[0;32m    217\u001b[0m     \u001b[38;5;66;03m# the name of the estimator by the name of the function in the error\u001b[39;00m\n\u001b[0;32m    218\u001b[0m     \u001b[38;5;66;03m# message to avoid confusion.\u001b[39;00m\n\u001b[0;32m    219\u001b[0m     msg \u001b[38;5;241m=\u001b[39m re\u001b[38;5;241m.\u001b[39msub(\n\u001b[0;32m    220\u001b[0m         \u001b[38;5;124mr\u001b[39m\u001b[38;5;124m\"\u001b[39m\u001b[38;5;124mparameter of \u001b[39m\u001b[38;5;124m\\\u001b[39m\u001b[38;5;124mw+ must be\u001b[39m\u001b[38;5;124m\"\u001b[39m,\n\u001b[0;32m    221\u001b[0m         \u001b[38;5;124mf\u001b[39m\u001b[38;5;124m\"\u001b[39m\u001b[38;5;124mparameter of \u001b[39m\u001b[38;5;132;01m{\u001b[39;00mfunc\u001b[38;5;241m.\u001b[39m\u001b[38;5;18m__qualname__\u001b[39m\u001b[38;5;132;01m}\u001b[39;00m\u001b[38;5;124m must be\u001b[39m\u001b[38;5;124m\"\u001b[39m,\n\u001b[0;32m    222\u001b[0m         \u001b[38;5;28mstr\u001b[39m(e),\n\u001b[0;32m    223\u001b[0m     )\n",
      "File \u001b[1;32mc:\\Users\\Ruben\\Documents\\PhD_AI\\Clases\\estadistica\\rating_analisis\\env_ratings\\lib\\site-packages\\sklearn\\metrics\\_classification.py:319\u001b[0m, in \u001b[0;36mconfusion_matrix\u001b[1;34m(y_true, y_pred, labels, sample_weight, normalize)\u001b[0m\n\u001b[0;32m    224\u001b[0m \u001b[38;5;129m@validate_params\u001b[39m(\n\u001b[0;32m    225\u001b[0m     {\n\u001b[0;32m    226\u001b[0m         \u001b[38;5;124m\"\u001b[39m\u001b[38;5;124my_true\u001b[39m\u001b[38;5;124m\"\u001b[39m: [\u001b[38;5;124m\"\u001b[39m\u001b[38;5;124marray-like\u001b[39m\u001b[38;5;124m\"\u001b[39m],\n\u001b[1;32m   (...)\u001b[0m\n\u001b[0;32m    235\u001b[0m     y_true, y_pred, \u001b[38;5;241m*\u001b[39m, labels\u001b[38;5;241m=\u001b[39m\u001b[38;5;28;01mNone\u001b[39;00m, sample_weight\u001b[38;5;241m=\u001b[39m\u001b[38;5;28;01mNone\u001b[39;00m, normalize\u001b[38;5;241m=\u001b[39m\u001b[38;5;28;01mNone\u001b[39;00m\n\u001b[0;32m    236\u001b[0m ):\n\u001b[0;32m    237\u001b[0m \u001b[38;5;250m    \u001b[39m\u001b[38;5;124;03m\"\"\"Compute confusion matrix to evaluate the accuracy of a classification.\u001b[39;00m\n\u001b[0;32m    238\u001b[0m \n\u001b[0;32m    239\u001b[0m \u001b[38;5;124;03m    By definition a confusion matrix :math:`C` is such that :math:`C_{i, j}`\u001b[39;00m\n\u001b[1;32m   (...)\u001b[0m\n\u001b[0;32m    317\u001b[0m \u001b[38;5;124;03m    (0, 2, 1, 1)\u001b[39;00m\n\u001b[0;32m    318\u001b[0m \u001b[38;5;124;03m    \"\"\"\u001b[39;00m\n\u001b[1;32m--> 319\u001b[0m     y_type, y_true, y_pred \u001b[38;5;241m=\u001b[39m \u001b[43m_check_targets\u001b[49m\u001b[43m(\u001b[49m\u001b[43my_true\u001b[49m\u001b[43m,\u001b[49m\u001b[43m \u001b[49m\u001b[43my_pred\u001b[49m\u001b[43m)\u001b[49m\n\u001b[0;32m    320\u001b[0m     \u001b[38;5;28;01mif\u001b[39;00m y_type \u001b[38;5;129;01mnot\u001b[39;00m \u001b[38;5;129;01min\u001b[39;00m (\u001b[38;5;124m\"\u001b[39m\u001b[38;5;124mbinary\u001b[39m\u001b[38;5;124m\"\u001b[39m, \u001b[38;5;124m\"\u001b[39m\u001b[38;5;124mmulticlass\u001b[39m\u001b[38;5;124m\"\u001b[39m):\n\u001b[0;32m    321\u001b[0m         \u001b[38;5;28;01mraise\u001b[39;00m \u001b[38;5;167;01mValueError\u001b[39;00m(\u001b[38;5;124m\"\u001b[39m\u001b[38;5;132;01m%s\u001b[39;00m\u001b[38;5;124m is not supported\u001b[39m\u001b[38;5;124m\"\u001b[39m \u001b[38;5;241m%\u001b[39m y_type)\n",
      "File \u001b[1;32mc:\\Users\\Ruben\\Documents\\PhD_AI\\Clases\\estadistica\\rating_analisis\\env_ratings\\lib\\site-packages\\sklearn\\metrics\\_classification.py:94\u001b[0m, in \u001b[0;36m_check_targets\u001b[1;34m(y_true, y_pred)\u001b[0m\n\u001b[0;32m     91\u001b[0m     y_type \u001b[38;5;241m=\u001b[39m {\u001b[38;5;124m\"\u001b[39m\u001b[38;5;124mmulticlass\u001b[39m\u001b[38;5;124m\"\u001b[39m}\n\u001b[0;32m     93\u001b[0m \u001b[38;5;28;01mif\u001b[39;00m \u001b[38;5;28mlen\u001b[39m(y_type) \u001b[38;5;241m>\u001b[39m \u001b[38;5;241m1\u001b[39m:\n\u001b[1;32m---> 94\u001b[0m     \u001b[38;5;28;01mraise\u001b[39;00m \u001b[38;5;167;01mValueError\u001b[39;00m(\n\u001b[0;32m     95\u001b[0m         \u001b[38;5;124m\"\u001b[39m\u001b[38;5;124mClassification metrics can\u001b[39m\u001b[38;5;124m'\u001b[39m\u001b[38;5;124mt handle a mix of \u001b[39m\u001b[38;5;132;01m{0}\u001b[39;00m\u001b[38;5;124m and \u001b[39m\u001b[38;5;132;01m{1}\u001b[39;00m\u001b[38;5;124m targets\u001b[39m\u001b[38;5;124m\"\u001b[39m\u001b[38;5;241m.\u001b[39mformat(\n\u001b[0;32m     96\u001b[0m             type_true, type_pred\n\u001b[0;32m     97\u001b[0m         )\n\u001b[0;32m     98\u001b[0m     )\n\u001b[0;32m    100\u001b[0m \u001b[38;5;66;03m# We can't have more than one value on y_type => The set is no more needed\u001b[39;00m\n\u001b[0;32m    101\u001b[0m y_type \u001b[38;5;241m=\u001b[39m y_type\u001b[38;5;241m.\u001b[39mpop()\n",
      "\u001b[1;31mValueError\u001b[0m: Classification metrics can't handle a mix of multiclass and continuous targets"
     ]
    }
   ],
   "source": [
    "# plot the  Confusion Matrix for the companies in the main world index\n",
    "cm = confusion_matrix(y, y_pred)\n",
    "sns.heatmap(cm,  fmt=\"d\")\n",
    "# usa All_rating_order_group como ticks en el eje x e y\n",
    "ticks = np.arange(len(ratings_))+0.5\n",
    "plt.xticks(ticks=ticks, labels=ratings_,rotation=45,fontname='Times New Roman')\n",
    "plt.yticks(ticks=ticks, labels=ratings_,rotation=0,fontname='Times New Roman')\n",
    "plt.title('Modelo de Regresión Polinómicat',fontname='Times New Roman')\n",
    "plt.xlabel('Predicted')\n",
    "plt.ylabel('Actual')\n",
    "plt.savefig('plots/confusion_matrix_polreg_new_data.png')\n",
    "plt.show()"
   ]
  },
  {
   "cell_type": "markdown",
   "metadata": {},
   "source": [
    "### Modelo de ML"
   ]
  },
  {
   "cell_type": "code",
   "execution_count": 53,
   "metadata": {},
   "outputs": [],
   "source": [
    "X = df[var_x] \n",
    "y = np.array(df['Rating_ordinal']) "
   ]
  },
  {
   "cell_type": "code",
   "execution_count": 54,
   "metadata": {},
   "outputs": [],
   "source": [
    "# Realizar predicciones sobre el conjunto de prueba\n",
    "model = load('models/rf_model.pkl')\n",
    "y_pred = model.predict(X)"
   ]
  },
  {
   "cell_type": "code",
   "execution_count": 55,
   "metadata": {},
   "outputs": [
    {
     "name": "stdout",
     "output_type": "stream",
     "text": [
      "Error Cuadrático Medio (MSE): 7.841965471447543\n",
      "Error Absoluto Medio (MEA): 1.4302788844621515\n"
     ]
    }
   ],
   "source": [
    "mse = mean_squared_error(y, y_pred)\n",
    "print(f\"Error Cuadrático Medio (MSE): {mse}\")\n",
    "\n",
    "mae = mean_absolute_error(y, y_pred)\n",
    "print(f\"Error Absoluto Medio (MEA): {mae}\")"
   ]
  },
  {
   "cell_type": "code",
   "execution_count": 56,
   "metadata": {},
   "outputs": [
    {
     "name": "stdout",
     "output_type": "stream",
     "text": [
      "Rating in the list {'CC', 'AA', 'CCC+', 'AA+', 'BB', 'BB+', 'AAA', 'BBB+', 'BB-', 'AA-', 'B', 'CCC-', 'CCC', 'A-', 'A+', 'B+', 'BBB', 'A', 'BBB-', 'B-'}\n",
      "Rating in our data {'CCC', 'BBB', 'A', 'BB', 'BBB-', 'A-', 'BB+', 'AAA', 'BBB+', 'AA', 'BB-', 'A+', 'B+', 'B-', 'AA-', 'AA+', 'B'}\n",
      "Ratings not in our list {'CCC+', 'CC', 'CCC-'}\n"
     ]
    }
   ],
   "source": [
    "ratings_ = All_rating_order.copy()\n",
    "ratings_.remove('D')\n",
    "ratings_.remove('SD')\n",
    "print('Rating in the list',set(ratings_))\n",
    "\n",
    "with open('dicts_ratings.json', 'r') as file:\n",
    "    dict_ratings = json.load(file)\n",
    "# invert the keys and values of the dit\n",
    "dict_ratings = {v: k for k, v in dict_ratings.items()}\n",
    "our_ratings = {dict_ratings[x] for x in set(df['Rating_ordinal'])}\n",
    "print('Rating in our data',our_ratings)\n",
    "\n",
    "print('Ratings not in our list',set(ratings_)-set(our_ratings))"
   ]
  },
  {
   "cell_type": "code",
   "execution_count": 57,
   "metadata": {},
   "outputs": [
    {
     "data": {
      "text/plain": [
       "{0, 1, 2, 3, 4, 5, 6, 7, 8, 9, 10, 11, 12, 13, 14, 15, 16, 17, 18, 19}"
      ]
     },
     "execution_count": 57,
     "metadata": {},
     "output_type": "execute_result"
    }
   ],
   "source": [
    "set(y_pred)"
   ]
  },
  {
   "cell_type": "code",
   "execution_count": 58,
   "metadata": {},
   "outputs": [
    {
     "name": "stdout",
     "output_type": "stream",
     "text": [
      "Number of times it predict the exact number : 60.69 %\n",
      "Number of times it predict the exact number or 1 different: 70.12 %\n",
      "Number of times it predict the exact number or 2 different: 77.56 %\n"
     ]
    }
   ],
   "source": [
    "#count the number of times the prediction value is equal to the real value over the total number of predictions\n",
    "print('Number of times it predict the exact number :',np.round(np.sum(y_pred == y) / len(y),4)*100,'%')\n",
    "\n",
    "# count the number of times the prediction value is equal o have only 1 different to the real value over the total number of predictions\n",
    "print('Number of times it predict the exact number or 1 different:',np.round(np.sum(abs(y_pred - y) <= 1) / len(y),4)*100,'%')\n",
    "\n",
    "# count the number of times the prediction value is equal o have only 1 different to the real value over the total number of predictions\n",
    "print('Number of times it predict the exact number or 2 different:',np.round(np.sum(abs(y_pred - y) <= 2) / len(y),4)*100,'%')"
   ]
  },
  {
   "cell_type": "code",
   "execution_count": 59,
   "metadata": {},
   "outputs": [
    {
     "data": {
      "image/png": "[encoded data removed]",
      "text/plain": [
       "<Figure size 640x480 with 2 Axes>"
      ]
     },
     "metadata": {},
     "output_type": "display_data"
    }
   ],
   "source": [
    "# plot the  Confusion Matrix for the companies in the main world index\n",
    "cm = confusion_matrix(y, y_pred)\n",
    "sns.heatmap(cm,  fmt=\"d\")\n",
    "# usa All_rating_order_group como ticks en el eje x e y\n",
    "ticks = np.arange(len(ratings_))+0.5\n",
    "plt.xticks(ticks=ticks, labels=ratings_,rotation=45,fontname='Times New Roman')\n",
    "plt.yticks(ticks=ticks, labels=ratings_,rotation=0,fontname='Times New Roman')\n",
    "plt.title('Modelo de Random Forest',fontname='Times New Roman')\n",
    "plt.xlabel('Predicted')\n",
    "plt.ylabel('Actual')\n",
    "plt.savefig('plots/confusion_matrix_rf_new_data.png')\n",
    "plt.show()"
   ]
  },
  {
   "cell_type": "code",
   "execution_count": null,
   "metadata": {},
   "outputs": [],
   "source": []
  }
 ],
 "metadata": {
  "kernelspec": {
   "display_name": "env_ratings",
   "language": "python",
   "name": "python3"
  },
  "language_info": {
   "codemirror_mode": {
    "name": "ipython",
    "version": 3
   },
   "file_extension": ".py",
   "mimetype": "text/x-python",
   "name": "python",
   "nbconvert_exporter": "python",
   "pygments_lexer": "ipython3",
   "version": "3.9.5"
  }
 },
 "nbformat": 4,
 "nbformat_minor": 2
}
